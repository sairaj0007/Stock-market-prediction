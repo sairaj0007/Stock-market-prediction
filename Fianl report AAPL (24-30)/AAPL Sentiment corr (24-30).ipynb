{
 "cells": [
  {
   "cell_type": "code",
   "execution_count": 1,
   "metadata": {},
   "outputs": [],
   "source": [
    "import pandas as pd  \n",
    "import numpy as np\n",
    "import matplotlib.pyplot as plt\n",
    "%matplotlib inline"
   ]
  },
  {
   "cell_type": "code",
   "execution_count": 4,
   "metadata": {},
   "outputs": [],
   "source": [
    "path = 'AAPL(24-30).csv'"
   ]
  },
  {
   "cell_type": "code",
   "execution_count": 5,
   "metadata": {},
   "outputs": [],
   "source": [
    "df = pd.read_csv(path)"
   ]
  },
  {
   "cell_type": "code",
   "execution_count": 7,
   "metadata": {},
   "outputs": [],
   "source": [
    "df[[\"Name\"]] = df[[\"Name\"]].apply(pd.to_datetime)"
   ]
  },
  {
   "cell_type": "code",
   "execution_count": 8,
   "metadata": {},
   "outputs": [],
   "source": [
    "df.set_index('Name',inplace=True)"
   ]
  },
  {
   "cell_type": "code",
   "execution_count": 12,
   "metadata": {
    "scrolled": true
   },
   "outputs": [
    {
     "data": {
      "text/html": [
       "<div>\n",
       "<style scoped>\n",
       "    .dataframe tbody tr th:only-of-type {\n",
       "        vertical-align: middle;\n",
       "    }\n",
       "\n",
       "    .dataframe tbody tr th {\n",
       "        vertical-align: top;\n",
       "    }\n",
       "\n",
       "    .dataframe thead th {\n",
       "        text-align: right;\n",
       "    }\n",
       "</style>\n",
       "<table border=\"1\" class=\"dataframe\">\n",
       "  <thead>\n",
       "    <tr style=\"text-align: right;\">\n",
       "      <th></th>\n",
       "      <th>open</th>\n",
       "      <th>high</th>\n",
       "      <th>low</th>\n",
       "      <th>close</th>\n",
       "      <th>volume</th>\n",
       "    </tr>\n",
       "    <tr>\n",
       "      <th>Name</th>\n",
       "      <th></th>\n",
       "      <th></th>\n",
       "      <th></th>\n",
       "      <th></th>\n",
       "      <th></th>\n",
       "    </tr>\n",
       "  </thead>\n",
       "  <tbody>\n",
       "    <tr>\n",
       "      <th>2018-08-30 15:59:00</th>\n",
       "      <td>225.08</td>\n",
       "      <td>225.2000</td>\n",
       "      <td>225.0000</td>\n",
       "      <td>225.0000</td>\n",
       "      <td>511118</td>\n",
       "    </tr>\n",
       "    <tr>\n",
       "      <th>2018-08-30 15:58:00</th>\n",
       "      <td>225.15</td>\n",
       "      <td>225.1800</td>\n",
       "      <td>225.0200</td>\n",
       "      <td>225.0700</td>\n",
       "      <td>241930</td>\n",
       "    </tr>\n",
       "    <tr>\n",
       "      <th>2018-08-30 15:57:00</th>\n",
       "      <td>225.16</td>\n",
       "      <td>225.1700</td>\n",
       "      <td>225.0900</td>\n",
       "      <td>225.1400</td>\n",
       "      <td>172603</td>\n",
       "    </tr>\n",
       "    <tr>\n",
       "      <th>2018-08-30 15:56:00</th>\n",
       "      <td>225.12</td>\n",
       "      <td>225.1762</td>\n",
       "      <td>225.1000</td>\n",
       "      <td>225.1724</td>\n",
       "      <td>144911</td>\n",
       "    </tr>\n",
       "    <tr>\n",
       "      <th>2018-08-30 15:55:00</th>\n",
       "      <td>225.09</td>\n",
       "      <td>225.2000</td>\n",
       "      <td>225.0811</td>\n",
       "      <td>225.1300</td>\n",
       "      <td>172578</td>\n",
       "    </tr>\n",
       "  </tbody>\n",
       "</table>\n",
       "</div>"
      ],
      "text/plain": [
       "                       open      high       low     close  volume\n",
       "Name                                                             \n",
       "2018-08-30 15:59:00  225.08  225.2000  225.0000  225.0000  511118\n",
       "2018-08-30 15:58:00  225.15  225.1800  225.0200  225.0700  241930\n",
       "2018-08-30 15:57:00  225.16  225.1700  225.0900  225.1400  172603\n",
       "2018-08-30 15:56:00  225.12  225.1762  225.1000  225.1724  144911\n",
       "2018-08-30 15:55:00  225.09  225.2000  225.0811  225.1300  172578"
      ]
     },
     "execution_count": 12,
     "metadata": {},
     "output_type": "execute_result"
    }
   ],
   "source": [
    "df.head()"
   ]
  },
  {
   "cell_type": "code",
   "execution_count": 10,
   "metadata": {},
   "outputs": [],
   "source": [
    "df=df.rename(columns={\n",
    "    'Value.1. open':'open', 'Value.2. high':'high', 'Value.3. low':'low', 'Value.4. close':'close',\n",
    "       'Value.5. volume':'volume'\n",
    "})"
   ]
  },
  {
   "cell_type": "code",
   "execution_count": 11,
   "metadata": {},
   "outputs": [
    {
     "data": {
      "text/plain": [
       "<matplotlib.axes._subplots.AxesSubplot at 0x1dee5995550>"
      ]
     },
     "execution_count": 11,
     "metadata": {},
     "output_type": "execute_result"
    },
    {
     "data": {
      "image/png": "[encoded data removed]",
      "text/plain": [
       "<Figure size 432x288 with 1 Axes>"
      ]
     },
     "metadata": {},
     "output_type": "display_data"
    }
   ],
   "source": [
    "df.close.plot()"
   ]
  }
 ],
 "metadata": {
  "kernelspec": {
   "display_name": "Python 3",
   "language": "python",
   "name": "python3"
  },
  "language_info": {
   "codemirror_mode": {
    "name": "ipython",
    "version": 3
   },
   "file_extension": ".py",
   "mimetype": "text/x-python",
   "name": "python",
   "nbconvert_exporter": "python",
   "pygments_lexer": "ipython3",
   "version": "3.6.5"
  }
 },
 "nbformat": 4,
 "nbformat_minor": 2
}
