{
 "cells": [
  {
   "cell_type": "markdown",
   "metadata": {},
   "source": [
    "# Nearest Neighbors Regressor"
   ]
  },
  {
   "cell_type": "code",
   "execution_count": 1,
   "metadata": {},
   "outputs": [],
   "source": [
    "from sklearn.neighbors import KNeighborsRegressor\n",
    "import pandas as pd\n",
    "import matplotlib as plt\n",
    "from sklearn.metrics import r2_score"
   ]
  },
  {
   "cell_type": "code",
   "execution_count": 2,
   "metadata": {},
   "outputs": [],
   "source": [
    "df = pd.read_csv(\"../X-Y data.csv\")\n",
    "df = df.fillna(0)\n",
    "df.index=df.minute"
   ]
  },
  {
   "cell_type": "code",
   "execution_count": 3,
   "metadata": {},
   "outputs": [],
   "source": [
    "MLDF_train = df[:10000][[ 'reach_sum', 'virality_mean', 'influence_score_sum',\n",
    "       'followers_mean', 'like_count', 'comment_count', 'share_count',\n",
    "       'tweet_count', 'love_count', 'retweet_count', 'positive_sentiment',\n",
    "       'negative_sentiment', 'score', 'open-apc', 'high-apc', 'low-apc',\n",
    "       'close-apc', 'volume-apc','close-aapl']]"
   ]
  },
  {
   "cell_type": "code",
   "execution_count": 4,
   "metadata": {},
   "outputs": [],
   "source": [
    "MLDF_test = df[10001:][[ 'reach_sum', 'virality_mean', 'influence_score_sum',\n",
    "       'followers_mean', 'like_count', 'comment_count', 'share_count',\n",
    "       'tweet_count', 'love_count', 'retweet_count', 'positive_sentiment',\n",
    "       'negative_sentiment', 'score', 'open-apc', 'high-apc', 'low-apc',\n",
    "       'close-apc', 'volume-apc','close-aapl']]"
   ]
  },
  {
   "cell_type": "markdown",
   "metadata": {},
   "source": [
    "Splitting X and Y"
   ]
  },
  {
   "cell_type": "code",
   "execution_count": 5,
   "metadata": {},
   "outputs": [],
   "source": [
    "X = MLDF_train[[ 'reach_sum', 'virality_mean', 'influence_score_sum',\n",
    "       'followers_mean', 'like_count', 'comment_count', 'share_count',\n",
    "       'tweet_count', 'love_count', 'retweet_count', 'positive_sentiment',\n",
    "       'negative_sentiment', 'score', 'open-apc', 'high-apc', 'low-apc',\n",
    "       'close-apc', 'volume-apc']]"
   ]
  },
  {
   "cell_type": "code",
   "execution_count": 6,
   "metadata": {},
   "outputs": [],
   "source": [
    "Y = MLDF_train[['close-aapl']]"
   ]
  },
  {
   "cell_type": "code",
   "execution_count": 7,
   "metadata": {},
   "outputs": [
    {
     "data": {
      "text/plain": [
       "KNeighborsRegressor(algorithm='auto', leaf_size=30, metric='minkowski',\n",
       "          metric_params=None, n_jobs=1, n_neighbors=2, p=2,\n",
       "          weights='uniform')"
      ]
     },
     "execution_count": 7,
     "metadata": {},
     "output_type": "execute_result"
    }
   ],
   "source": [
    "regr = KNeighborsRegressor(n_neighbors=2)\n",
    "regr.fit(X, Y)"
   ]
  },
  {
   "cell_type": "markdown",
   "metadata": {},
   "source": [
    "Testing"
   ]
  },
  {
   "cell_type": "code",
   "execution_count": 8,
   "metadata": {},
   "outputs": [],
   "source": [
    "X_test=MLDF_test[[ 'reach_sum', 'virality_mean', 'influence_score_sum',\n",
    "       'followers_mean', 'like_count', 'comment_count', 'share_count',\n",
    "       'tweet_count', 'love_count', 'retweet_count', 'positive_sentiment',\n",
    "       'negative_sentiment', 'score', 'open-apc', 'high-apc', 'low-apc',\n",
    "       'close-apc', 'volume-apc']]"
   ]
  },
  {
   "cell_type": "code",
   "execution_count": 9,
   "metadata": {},
   "outputs": [],
   "source": [
    "Y_test = MLDF_test['close-aapl']"
   ]
  },
  {
   "cell_type": "code",
   "execution_count": 10,
   "metadata": {},
   "outputs": [],
   "source": [
    "Y_predicted = regr.predict(X_test)"
   ]
  },
  {
   "cell_type": "code",
   "execution_count": 11,
   "metadata": {},
   "outputs": [],
   "source": [
    "prediction = pd.DataFrame()\n",
    "prediction['Cours AAPL'] = MLDF_test['close-aapl']\n",
    "prediction[\"pred_NN\"] = Y_predicted"
   ]
  },
  {
   "cell_type": "code",
   "execution_count": 13,
   "metadata": {},
   "outputs": [
    {
     "data": {
      "text/plain": [
       "<matplotlib.axes._subplots.AxesSubplot at 0x2086da166a0>"
      ]
     },
     "execution_count": 13,
     "metadata": {},
     "output_type": "execute_result"
    },
    {
     "data": {
      "image/png": "[encoded data removed]",
      "text/plain": [
       "<Figure size 720x576 with 1 Axes>"
      ]
     },
     "metadata": {},
     "output_type": "display_data"
    }
   ],
   "source": [
    "prediction.plot(figsize=(10,8))"
   ]
  },
  {
   "cell_type": "code",
   "execution_count": 15,
   "metadata": {},
   "outputs": [
    {
     "data": {
      "text/plain": [
       "4.024887126450094"
      ]
     },
     "execution_count": 15,
     "metadata": {},
     "output_type": "execute_result"
    }
   ],
   "source": [
    "from sklearn.metrics import mean_squared_error\n",
    "from sklearn.metrics import mean_absolute_error\n",
    "error_value = mean_absolute_error(Y_test, Y_predicted)\n",
    "error_value"
   ]
  }
 ],
 "metadata": {
  "kernelspec": {
   "display_name": "Python 3",
   "language": "python",
   "name": "python3"
  },
  "language_info": {
   "codemirror_mode": {
    "name": "ipython",
    "version": 3
   },
   "file_extension": ".py",
   "mimetype": "text/x-python",
   "name": "python",
   "nbconvert_exporter": "python",
   "pygments_lexer": "ipython3",
   "version": "3.6.5"
  }
 },
 "nbformat": 4,
 "nbformat_minor": 2
}
