{
 "cells": [
  {
   "cell_type": "markdown",
   "metadata": {},
   "source": [
    "# First look at the data"
   ]
  },
  {
   "cell_type": "code",
   "execution_count": 569,
   "metadata": {},
   "outputs": [],
   "source": [
    "import pandas as pd  \n",
    "import numpy as np\n",
    "import matplotlib.pyplot as plt\n",
    "%matplotlib inline"
   ]
  },
  {
   "cell_type": "code",
   "execution_count": 570,
   "metadata": {},
   "outputs": [],
   "source": [
    "cols = [\"date\",\"time\",\"title\",\"from\",\"author\",\"url\",\"photo\",\"type\",\"group\",\n",
    "        \"keyword\",\"found keywords\",\"languages\",\"locations\",\"tags\",\"sentiment\",\n",
    "        \"auto_sentiment\",\"mention\",\"reach\",\"virality\",\"influence_score\",\"followers\",\n",
    "        \"like_count\",\"comment_count\",\"share_count\",\"tweet_count\",\"love_count\",\"wow_count\",\n",
    "        \"haha_count\",\"sad_count\",\"angry_count\",\"total_reactions_count\",\"favorite_count\",\n",
    "        \"retweet_count\",\"view_count\",\"dislike_coutn\",\"comments_count\",\"likes\",\"dislikes\",\"count\"\n",
    "]"
   ]
  },
  {
   "cell_type": "code",
   "execution_count": 571,
   "metadata": {},
   "outputs": [],
   "source": [
    "path = \"AAPL(24-30) news feeds.csv\""
   ]
  },
  {
   "cell_type": "markdown",
   "metadata": {},
   "source": [
    "reading file and preconfiguration"
   ]
  },
  {
   "cell_type": "markdown",
   "metadata": {},
   "source": [
    "Reading csv file\n",
    "df = pd.read_csv(path,header=None, names=cols, engine='python');\n",
    "df=df.drop(df.index[0])\n",
    "df.reset_index(drop=True);"
   ]
  },
  {
   "cell_type": "code",
   "execution_count": 572,
   "metadata": {},
   "outputs": [],
   "source": [
    "df = pd.read_csv(path)"
   ]
  },
  {
   "cell_type": "code",
   "execution_count": 573,
   "metadata": {},
   "outputs": [
    {
     "data": {
      "text/html": [
       "<div>\n",
       "<style scoped>\n",
       "    .dataframe tbody tr th:only-of-type {\n",
       "        vertical-align: middle;\n",
       "    }\n",
       "\n",
       "    .dataframe tbody tr th {\n",
       "        vertical-align: top;\n",
       "    }\n",
       "\n",
       "    .dataframe thead th {\n",
       "        text-align: right;\n",
       "    }\n",
       "</style>\n",
       "<table border=\"1\" class=\"dataframe\">\n",
       "  <thead>\n",
       "    <tr style=\"text-align: right;\">\n",
       "      <th></th>\n",
       "      <th>date</th>\n",
       "      <th>time</th>\n",
       "      <th>title</th>\n",
       "      <th>from</th>\n",
       "      <th>author</th>\n",
       "      <th>url</th>\n",
       "      <th>photo</th>\n",
       "      <th>type</th>\n",
       "      <th>group</th>\n",
       "      <th>keyword</th>\n",
       "      <th>...</th>\n",
       "      <th>favorite_count</th>\n",
       "      <th>retweet_count</th>\n",
       "      <th>view_count</th>\n",
       "      <th>dislike_coutn</th>\n",
       "      <th>comments_count</th>\n",
       "      <th>likes</th>\n",
       "      <th>dislikes</th>\n",
       "      <th>count</th>\n",
       "      <th>reddit_type</th>\n",
       "      <th>score</th>\n",
       "    </tr>\n",
       "  </thead>\n",
       "  <tbody>\n",
       "    <tr>\n",
       "      <th>0</th>\n",
       "      <td>2018-08-31</td>\n",
       "      <td>09:49:10</td>\n",
       "      <td>IoS Based Mobile Games Market 2018 - Global In...</td>\n",
       "      <td>videobasedtutorials.com</td>\n",
       "      <td>NaN</td>\n",
       "      <td>http://www.videobasedtutorials.com/articles/vi...</td>\n",
       "      <td>http://www.abnewswire.com/pressreleases/wp-con...</td>\n",
       "      <td>web</td>\n",
       "      <td>My company</td>\n",
       "      <td>AAPL</td>\n",
       "      <td>...</td>\n",
       "      <td>NaN</td>\n",
       "      <td>NaN</td>\n",
       "      <td>NaN</td>\n",
       "      <td>NaN</td>\n",
       "      <td>NaN</td>\n",
       "      <td>NaN</td>\n",
       "      <td>NaN</td>\n",
       "      <td>NaN</td>\n",
       "      <td>NaN</td>\n",
       "      <td>NaN</td>\n",
       "    </tr>\n",
       "    <tr>\n",
       "      <th>1</th>\n",
       "      <td>2018-08-31</td>\n",
       "      <td>09:46:09</td>\n",
       "      <td>IoS Based Mobile Games Market 2018 - Global In...</td>\n",
       "      <td>digitalmedianet.com</td>\n",
       "      <td>NaN</td>\n",
       "      <td>http://hollywoodindustry.digitalmedianet.com/a...</td>\n",
       "      <td>http://www.abnewswire.com/pressreleases/wp-con...</td>\n",
       "      <td>web</td>\n",
       "      <td>My company</td>\n",
       "      <td>AAPL</td>\n",
       "      <td>...</td>\n",
       "      <td>NaN</td>\n",
       "      <td>NaN</td>\n",
       "      <td>NaN</td>\n",
       "      <td>NaN</td>\n",
       "      <td>NaN</td>\n",
       "      <td>NaN</td>\n",
       "      <td>NaN</td>\n",
       "      <td>NaN</td>\n",
       "      <td>NaN</td>\n",
       "      <td>NaN</td>\n",
       "    </tr>\n",
       "    <tr>\n",
       "      <th>2</th>\n",
       "      <td>2018-08-31</td>\n",
       "      <td>09:19:21</td>\n",
       "      <td>Apple Accidentally Reveals Radical New iPhone XS</td>\n",
       "      <td>World Star News Today</td>\n",
       "      <td>World Star News Today</td>\n",
       "      <td>https://www.youtube.com/watch?v=tGiywcos49c</td>\n",
       "      <td>NaN</td>\n",
       "      <td>youtube</td>\n",
       "      <td>My company</td>\n",
       "      <td>AAPL</td>\n",
       "      <td>...</td>\n",
       "      <td>NaN</td>\n",
       "      <td>NaN</td>\n",
       "      <td>3.0</td>\n",
       "      <td>0.0</td>\n",
       "      <td>0.0</td>\n",
       "      <td>NaN</td>\n",
       "      <td>NaN</td>\n",
       "      <td>NaN</td>\n",
       "      <td>NaN</td>\n",
       "      <td>NaN</td>\n",
       "    </tr>\n",
       "    <tr>\n",
       "      <th>3</th>\n",
       "      <td>2018-08-31</td>\n",
       "      <td>09:19:20</td>\n",
       "      <td>US Equity Markets Update (31st August 2018, 8:...</td>\n",
       "      <td>londoncapitalmarkets</td>\n",
       "      <td>londoncapitalmarkets</td>\n",
       "      <td>https://www.instagram.com/p/BnIuUzjjpQT</td>\n",
       "      <td>https://scontent-vie1-1.cdninstagram.com/vp/22...</td>\n",
       "      <td>instagram</td>\n",
       "      <td>My company</td>\n",
       "      <td>AAPL</td>\n",
       "      <td>...</td>\n",
       "      <td>NaN</td>\n",
       "      <td>NaN</td>\n",
       "      <td>0.0</td>\n",
       "      <td>NaN</td>\n",
       "      <td>NaN</td>\n",
       "      <td>NaN</td>\n",
       "      <td>NaN</td>\n",
       "      <td>NaN</td>\n",
       "      <td>NaN</td>\n",
       "      <td>NaN</td>\n",
       "    </tr>\n",
       "    <tr>\n",
       "      <th>4</th>\n",
       "      <td>2018-08-31</td>\n",
       "      <td>09:17:53</td>\n",
       "      <td>Wireless Audio Device Market: Global Snapshot ...</td>\n",
       "      <td>videobasedtutorials.com</td>\n",
       "      <td>NaN</td>\n",
       "      <td>http://www.videobasedtutorials.com/articles/vi...</td>\n",
       "      <td>http://www.videobasedtutorials.com/images/site...</td>\n",
       "      <td>web</td>\n",
       "      <td>My company</td>\n",
       "      <td>AAPL</td>\n",
       "      <td>...</td>\n",
       "      <td>NaN</td>\n",
       "      <td>NaN</td>\n",
       "      <td>NaN</td>\n",
       "      <td>NaN</td>\n",
       "      <td>NaN</td>\n",
       "      <td>NaN</td>\n",
       "      <td>NaN</td>\n",
       "      <td>NaN</td>\n",
       "      <td>NaN</td>\n",
       "      <td>NaN</td>\n",
       "    </tr>\n",
       "  </tbody>\n",
       "</table>\n",
       "<p>5 rows × 41 columns</p>\n",
       "</div>"
      ],
      "text/plain": [
       "         date      time                                              title  \\\n",
       "0  2018-08-31  09:49:10  IoS Based Mobile Games Market 2018 - Global In...   \n",
       "1  2018-08-31  09:46:09  IoS Based Mobile Games Market 2018 - Global In...   \n",
       "2  2018-08-31  09:19:21   Apple Accidentally Reveals Radical New iPhone XS   \n",
       "3  2018-08-31  09:19:20  US Equity Markets Update (31st August 2018, 8:...   \n",
       "4  2018-08-31  09:17:53  Wireless Audio Device Market: Global Snapshot ...   \n",
       "\n",
       "                      from                 author  \\\n",
       "0  videobasedtutorials.com                    NaN   \n",
       "1      digitalmedianet.com                    NaN   \n",
       "2    World Star News Today  World Star News Today   \n",
       "3     londoncapitalmarkets   londoncapitalmarkets   \n",
       "4  videobasedtutorials.com                    NaN   \n",
       "\n",
       "                                                 url  \\\n",
       "0  http://www.videobasedtutorials.com/articles/vi...   \n",
       "1  http://hollywoodindustry.digitalmedianet.com/a...   \n",
       "2        https://www.youtube.com/watch?v=tGiywcos49c   \n",
       "3            https://www.instagram.com/p/BnIuUzjjpQT   \n",
       "4  http://www.videobasedtutorials.com/articles/vi...   \n",
       "\n",
       "                                               photo       type       group  \\\n",
       "0  http://www.abnewswire.com/pressreleases/wp-con...        web  My company   \n",
       "1  http://www.abnewswire.com/pressreleases/wp-con...        web  My company   \n",
       "2                                                NaN    youtube  My company   \n",
       "3  https://scontent-vie1-1.cdninstagram.com/vp/22...  instagram  My company   \n",
       "4  http://www.videobasedtutorials.com/images/site...        web  My company   \n",
       "\n",
       "  keyword  ...   favorite_count retweet_count view_count  dislike_coutn  \\\n",
       "0    AAPL  ...              NaN           NaN        NaN            NaN   \n",
       "1    AAPL  ...              NaN           NaN        NaN            NaN   \n",
       "2    AAPL  ...              NaN           NaN        3.0            0.0   \n",
       "3    AAPL  ...              NaN           NaN        0.0            NaN   \n",
       "4    AAPL  ...              NaN           NaN        NaN            NaN   \n",
       "\n",
       "   comments_count likes dislikes  count  reddit_type  score  \n",
       "0             NaN   NaN      NaN    NaN          NaN    NaN  \n",
       "1             NaN   NaN      NaN    NaN          NaN    NaN  \n",
       "2             0.0   NaN      NaN    NaN          NaN    NaN  \n",
       "3             NaN   NaN      NaN    NaN          NaN    NaN  \n",
       "4             NaN   NaN      NaN    NaN          NaN    NaN  \n",
       "\n",
       "[5 rows x 41 columns]"
      ]
     },
     "execution_count": 573,
     "metadata": {},
     "output_type": "execute_result"
    }
   ],
   "source": [
    "df.head()"
   ]
  },
  {
   "cell_type": "code",
   "execution_count": 574,
   "metadata": {},
   "outputs": [],
   "source": [
    "df['ind'] = df[['date', 'time']].apply(lambda x: '/'.join(x), axis=1)"
   ]
  },
  {
   "cell_type": "markdown",
   "metadata": {},
   "source": [
    "converting to numeric and setting time index"
   ]
  },
  {
   "cell_type": "code",
   "execution_count": 575,
   "metadata": {
    "scrolled": false
   },
   "outputs": [],
   "source": [
    "df[[\"reach\",\"virality\",\"influence_score\",\"followers\",\"like_count\",\"comment_count\",\"share_count\",\"tweet_count\",\"love_count\",\"wow_count\",\"haha_count\",\"sad_count\",\"angry_count\",\"total_reactions_count\",\"favorite_count\",\"retweet_count\",\"view_count\",\"dislike_coutn\",\"comments_count\",\"likes\",\"dislikes\",\"count\"]] = df[[\"reach\",\"virality\",\"influence_score\",\"followers\",\"like_count\",\"comment_count\",\"share_count\",\"tweet_count\",\"love_count\",\"wow_count\",\"haha_count\",\"sad_count\",\"angry_count\",\"total_reactions_count\",\"favorite_count\",\"retweet_count\",\"view_count\",\"dislike_coutn\",\"comments_count\",\"likes\",\"dislikes\",\"count\"]].apply(pd.to_numeric)"
   ]
  },
  {
   "cell_type": "code",
   "execution_count": 576,
   "metadata": {},
   "outputs": [],
   "source": [
    "df[\"ind\"] = df[\"ind\"].apply(pd.to_datetime)"
   ]
  },
  {
   "cell_type": "code",
   "execution_count": 577,
   "metadata": {},
   "outputs": [],
   "source": [
    "df.set_index('ind',inplace=True)"
   ]
  },
  {
   "cell_type": "markdown",
   "metadata": {},
   "source": [
    "sentiment to numeric"
   ]
  },
  {
   "cell_type": "code",
   "execution_count": 578,
   "metadata": {},
   "outputs": [],
   "source": [
    "df['auto_sentiment'] = df['auto_sentiment'].map({\"negative\":-1, \"positive\": 1, \"neutral\":0})"
   ]
  },
  {
   "cell_type": "markdown",
   "metadata": {},
   "source": [
    "keeping only required cols"
   ]
  },
  {
   "cell_type": "code",
   "execution_count": 579,
   "metadata": {},
   "outputs": [],
   "source": [
    "df= df.drop(['date',\"group\",\"keyword\",\"found keywords\",\"photo\",\"type\",\"author\",\"url\",\"languages\",\"locations\",\"tags\",\"sentiment\"], axis=1)"
   ]
  },
  {
   "cell_type": "code",
   "execution_count": 580,
   "metadata": {},
   "outputs": [
    {
     "data": {
      "text/html": [
       "<div>\n",
       "<style scoped>\n",
       "    .dataframe tbody tr th:only-of-type {\n",
       "        vertical-align: middle;\n",
       "    }\n",
       "\n",
       "    .dataframe tbody tr th {\n",
       "        vertical-align: top;\n",
       "    }\n",
       "\n",
       "    .dataframe thead th {\n",
       "        text-align: right;\n",
       "    }\n",
       "</style>\n",
       "<table border=\"1\" class=\"dataframe\">\n",
       "  <thead>\n",
       "    <tr style=\"text-align: right;\">\n",
       "      <th></th>\n",
       "      <th>time</th>\n",
       "      <th>title</th>\n",
       "      <th>from</th>\n",
       "      <th>auto_sentiment</th>\n",
       "      <th>mention</th>\n",
       "      <th>reach</th>\n",
       "      <th>virality</th>\n",
       "      <th>influence_score</th>\n",
       "      <th>followers</th>\n",
       "      <th>like_count</th>\n",
       "      <th>...</th>\n",
       "      <th>favorite_count</th>\n",
       "      <th>retweet_count</th>\n",
       "      <th>view_count</th>\n",
       "      <th>dislike_coutn</th>\n",
       "      <th>comments_count</th>\n",
       "      <th>likes</th>\n",
       "      <th>dislikes</th>\n",
       "      <th>count</th>\n",
       "      <th>reddit_type</th>\n",
       "      <th>score</th>\n",
       "    </tr>\n",
       "    <tr>\n",
       "      <th>ind</th>\n",
       "      <th></th>\n",
       "      <th></th>\n",
       "      <th></th>\n",
       "      <th></th>\n",
       "      <th></th>\n",
       "      <th></th>\n",
       "      <th></th>\n",
       "      <th></th>\n",
       "      <th></th>\n",
       "      <th></th>\n",
       "      <th></th>\n",
       "      <th></th>\n",
       "      <th></th>\n",
       "      <th></th>\n",
       "      <th></th>\n",
       "      <th></th>\n",
       "      <th></th>\n",
       "      <th></th>\n",
       "      <th></th>\n",
       "      <th></th>\n",
       "      <th></th>\n",
       "    </tr>\n",
       "  </thead>\n",
       "  <tbody>\n",
       "    <tr>\n",
       "      <th>2018-08-31 09:49:10</th>\n",
       "      <td>09:49:10</td>\n",
       "      <td>IoS Based Mobile Games Market 2018 - Global In...</td>\n",
       "      <td>videobasedtutorials.com</td>\n",
       "      <td>1.0</td>\n",
       "      <td>IOS based mobile games is based on Mac OS and ...</td>\n",
       "      <td>4.0</td>\n",
       "      <td>0.0</td>\n",
       "      <td>1</td>\n",
       "      <td>NaN</td>\n",
       "      <td>0.0</td>\n",
       "      <td>...</td>\n",
       "      <td>NaN</td>\n",
       "      <td>NaN</td>\n",
       "      <td>NaN</td>\n",
       "      <td>NaN</td>\n",
       "      <td>NaN</td>\n",
       "      <td>NaN</td>\n",
       "      <td>NaN</td>\n",
       "      <td>NaN</td>\n",
       "      <td>NaN</td>\n",
       "      <td>NaN</td>\n",
       "    </tr>\n",
       "    <tr>\n",
       "      <th>2018-08-31 09:46:09</th>\n",
       "      <td>09:46:09</td>\n",
       "      <td>IoS Based Mobile Games Market 2018 - Global In...</td>\n",
       "      <td>digitalmedianet.com</td>\n",
       "      <td>1.0</td>\n",
       "      <td>IOS based mobile games is based on Mac OS and ...</td>\n",
       "      <td>21.0</td>\n",
       "      <td>0.0</td>\n",
       "      <td>3</td>\n",
       "      <td>NaN</td>\n",
       "      <td>0.0</td>\n",
       "      <td>...</td>\n",
       "      <td>NaN</td>\n",
       "      <td>NaN</td>\n",
       "      <td>NaN</td>\n",
       "      <td>NaN</td>\n",
       "      <td>NaN</td>\n",
       "      <td>NaN</td>\n",
       "      <td>NaN</td>\n",
       "      <td>NaN</td>\n",
       "      <td>NaN</td>\n",
       "      <td>NaN</td>\n",
       "    </tr>\n",
       "    <tr>\n",
       "      <th>2018-08-31 09:19:21</th>\n",
       "      <td>09:19:21</td>\n",
       "      <td>Apple Accidentally Reveals Radical New iPhone XS</td>\n",
       "      <td>World Star News Today</td>\n",
       "      <td>-1.0</td>\n",
       "      <td>Following months of Apple AAPL +0.93% dropping...</td>\n",
       "      <td>3.0</td>\n",
       "      <td>NaN</td>\n",
       "      <td>1</td>\n",
       "      <td>NaN</td>\n",
       "      <td>0.0</td>\n",
       "      <td>...</td>\n",
       "      <td>NaN</td>\n",
       "      <td>NaN</td>\n",
       "      <td>3.0</td>\n",
       "      <td>0.0</td>\n",
       "      <td>0.0</td>\n",
       "      <td>NaN</td>\n",
       "      <td>NaN</td>\n",
       "      <td>NaN</td>\n",
       "      <td>NaN</td>\n",
       "      <td>NaN</td>\n",
       "    </tr>\n",
       "    <tr>\n",
       "      <th>2018-08-31 09:19:20</th>\n",
       "      <td>09:19:20</td>\n",
       "      <td>US Equity Markets Update (31st August 2018, 8:...</td>\n",
       "      <td>londoncapitalmarkets</td>\n",
       "      <td>0.0</td>\n",
       "      <td>Apple Inc shares closed at a record high, risi...</td>\n",
       "      <td>310.0</td>\n",
       "      <td>NaN</td>\n",
       "      <td>1</td>\n",
       "      <td>5649.0</td>\n",
       "      <td>31.0</td>\n",
       "      <td>...</td>\n",
       "      <td>NaN</td>\n",
       "      <td>NaN</td>\n",
       "      <td>0.0</td>\n",
       "      <td>NaN</td>\n",
       "      <td>NaN</td>\n",
       "      <td>NaN</td>\n",
       "      <td>NaN</td>\n",
       "      <td>NaN</td>\n",
       "      <td>NaN</td>\n",
       "      <td>NaN</td>\n",
       "    </tr>\n",
       "    <tr>\n",
       "      <th>2018-08-31 09:17:53</th>\n",
       "      <td>09:17:53</td>\n",
       "      <td>Wireless Audio Device Market: Global Snapshot ...</td>\n",
       "      <td>videobasedtutorials.com</td>\n",
       "      <td>1.0</td>\n",
       "      <td>(U.S.), Apple Inc. (U.S.), Voxx International ...</td>\n",
       "      <td>4.0</td>\n",
       "      <td>0.0</td>\n",
       "      <td>1</td>\n",
       "      <td>NaN</td>\n",
       "      <td>0.0</td>\n",
       "      <td>...</td>\n",
       "      <td>NaN</td>\n",
       "      <td>NaN</td>\n",
       "      <td>NaN</td>\n",
       "      <td>NaN</td>\n",
       "      <td>NaN</td>\n",
       "      <td>NaN</td>\n",
       "      <td>NaN</td>\n",
       "      <td>NaN</td>\n",
       "      <td>NaN</td>\n",
       "      <td>NaN</td>\n",
       "    </tr>\n",
       "  </tbody>\n",
       "</table>\n",
       "<p>5 rows × 29 columns</p>\n",
       "</div>"
      ],
      "text/plain": [
       "                         time  \\\n",
       "ind                             \n",
       "2018-08-31 09:49:10  09:49:10   \n",
       "2018-08-31 09:46:09  09:46:09   \n",
       "2018-08-31 09:19:21  09:19:21   \n",
       "2018-08-31 09:19:20  09:19:20   \n",
       "2018-08-31 09:17:53  09:17:53   \n",
       "\n",
       "                                                                 title  \\\n",
       "ind                                                                      \n",
       "2018-08-31 09:49:10  IoS Based Mobile Games Market 2018 - Global In...   \n",
       "2018-08-31 09:46:09  IoS Based Mobile Games Market 2018 - Global In...   \n",
       "2018-08-31 09:19:21   Apple Accidentally Reveals Radical New iPhone XS   \n",
       "2018-08-31 09:19:20  US Equity Markets Update (31st August 2018, 8:...   \n",
       "2018-08-31 09:17:53  Wireless Audio Device Market: Global Snapshot ...   \n",
       "\n",
       "                                        from  auto_sentiment  \\\n",
       "ind                                                            \n",
       "2018-08-31 09:49:10  videobasedtutorials.com             1.0   \n",
       "2018-08-31 09:46:09      digitalmedianet.com             1.0   \n",
       "2018-08-31 09:19:21    World Star News Today            -1.0   \n",
       "2018-08-31 09:19:20     londoncapitalmarkets             0.0   \n",
       "2018-08-31 09:17:53  videobasedtutorials.com             1.0   \n",
       "\n",
       "                                                               mention  reach  \\\n",
       "ind                                                                             \n",
       "2018-08-31 09:49:10  IOS based mobile games is based on Mac OS and ...    4.0   \n",
       "2018-08-31 09:46:09  IOS based mobile games is based on Mac OS and ...   21.0   \n",
       "2018-08-31 09:19:21  Following months of Apple AAPL +0.93% dropping...    3.0   \n",
       "2018-08-31 09:19:20  Apple Inc shares closed at a record high, risi...  310.0   \n",
       "2018-08-31 09:17:53  (U.S.), Apple Inc. (U.S.), Voxx International ...    4.0   \n",
       "\n",
       "                     virality  influence_score  followers  like_count  ...    \\\n",
       "ind                                                                    ...     \n",
       "2018-08-31 09:49:10       0.0                1        NaN         0.0  ...     \n",
       "2018-08-31 09:46:09       0.0                3        NaN         0.0  ...     \n",
       "2018-08-31 09:19:21       NaN                1        NaN         0.0  ...     \n",
       "2018-08-31 09:19:20       NaN                1     5649.0        31.0  ...     \n",
       "2018-08-31 09:17:53       0.0                1        NaN         0.0  ...     \n",
       "\n",
       "                     favorite_count  retweet_count  view_count  dislike_coutn  \\\n",
       "ind                                                                             \n",
       "2018-08-31 09:49:10             NaN            NaN         NaN            NaN   \n",
       "2018-08-31 09:46:09             NaN            NaN         NaN            NaN   \n",
       "2018-08-31 09:19:21             NaN            NaN         3.0            0.0   \n",
       "2018-08-31 09:19:20             NaN            NaN         0.0            NaN   \n",
       "2018-08-31 09:17:53             NaN            NaN         NaN            NaN   \n",
       "\n",
       "                     comments_count  likes  dislikes  count  reddit_type  \\\n",
       "ind                                                                        \n",
       "2018-08-31 09:49:10             NaN    NaN       NaN    NaN          NaN   \n",
       "2018-08-31 09:46:09             NaN    NaN       NaN    NaN          NaN   \n",
       "2018-08-31 09:19:21             0.0    NaN       NaN    NaN          NaN   \n",
       "2018-08-31 09:19:20             NaN    NaN       NaN    NaN          NaN   \n",
       "2018-08-31 09:17:53             NaN    NaN       NaN    NaN          NaN   \n",
       "\n",
       "                     score  \n",
       "ind                         \n",
       "2018-08-31 09:49:10    NaN  \n",
       "2018-08-31 09:46:09    NaN  \n",
       "2018-08-31 09:19:21    NaN  \n",
       "2018-08-31 09:19:20    NaN  \n",
       "2018-08-31 09:17:53    NaN  \n",
       "\n",
       "[5 rows x 29 columns]"
      ]
     },
     "execution_count": 580,
     "metadata": {},
     "output_type": "execute_result"
    }
   ],
   "source": [
    "df.head()"
   ]
  },
  {
   "cell_type": "markdown",
   "metadata": {},
   "source": [
    "adding minute columne"
   ]
  },
  {
   "cell_type": "code",
   "execution_count": 581,
   "metadata": {},
   "outputs": [],
   "source": [
    "from datetime import date,datetime\n",
    "minute =[]\n",
    "for x in df.index:\n",
    "    minute.append(pd.to_datetime(datetime(x.year,x.month,x.day,x.hour,x.minute)))\n",
    "df[\"minute\"]=minute"
   ]
  },
  {
   "cell_type": "markdown",
   "metadata": {},
   "source": [
    "# Grouping by date time"
   ]
  },
  {
   "cell_type": "markdown",
   "metadata": {},
   "source": [
    "Aggregation"
   ]
  },
  {
   "cell_type": "code",
   "execution_count": 582,
   "metadata": {},
   "outputs": [],
   "source": [
    "def calc(x,y):\n",
    "    val=0\n",
    "    for i in x:\n",
    "        if i==y: val=val+1\n",
    "    return val"
   ]
  },
  {
   "cell_type": "code",
   "execution_count": 583,
   "metadata": {},
   "outputs": [],
   "source": [
    "agg={\n",
    "    \"auto_sentiment\":  {\"count_pos\":lambda x :calc(x,1),\n",
    "                       \"count_neg\":lambda x :calc(x,-1),\n",
    "                       \"count_neu\":lambda x :calc(x,0)},\n",
    "    \"reach\":\"sum\",\n",
    "    \"virality\":\"mean\",\n",
    "    \"influence_score\":\"sum\",\n",
    "     \"followers\":\"mean\",\n",
    "     \"like_count\":\"count\",\n",
    "     \"comment_count\" :\"count\",\n",
    "     \"share_count\" :\"count\",\n",
    "     \"tweet_count\": \"count\",\n",
    "     \"love_count\":\"count\",\n",
    "     \"retweet_count\": \"count\",\n",
    "    \"minute\":max\n",
    "    }"
   ]
  },
  {
   "cell_type": "code",
   "execution_count": 584,
   "metadata": {},
   "outputs": [
    {
     "name": "stderr",
     "output_type": "stream",
     "text": [
      "D:\\Anaconda3\\lib\\site-packages\\pandas\\core\\groupby\\groupby.py:4658: FutureWarning: using a dict with renaming is deprecated and will be removed in a future version\n",
      "  return super(DataFrameGroupBy, self).aggregate(arg, *args, **kwargs)\n"
     ]
    }
   ],
   "source": [
    "df1=df.groupby(\"minute\").agg(agg)"
   ]
  },
  {
   "cell_type": "code",
   "execution_count": 585,
   "metadata": {},
   "outputs": [
    {
     "data": {
      "text/html": [
       "<div>\n",
       "<style scoped>\n",
       "    .dataframe tbody tr th:only-of-type {\n",
       "        vertical-align: middle;\n",
       "    }\n",
       "\n",
       "    .dataframe tbody tr th {\n",
       "        vertical-align: top;\n",
       "    }\n",
       "\n",
       "    .dataframe thead tr th {\n",
       "        text-align: left;\n",
       "    }\n",
       "\n",
       "    .dataframe thead tr:last-of-type th {\n",
       "        text-align: right;\n",
       "    }\n",
       "</style>\n",
       "<table border=\"1\" class=\"dataframe\">\n",
       "  <thead>\n",
       "    <tr>\n",
       "      <th></th>\n",
       "      <th colspan=\"3\" halign=\"left\">auto_sentiment</th>\n",
       "      <th>reach</th>\n",
       "      <th>virality</th>\n",
       "      <th>influence_score</th>\n",
       "      <th>followers</th>\n",
       "      <th>like_count</th>\n",
       "      <th>comment_count</th>\n",
       "      <th>share_count</th>\n",
       "      <th>tweet_count</th>\n",
       "      <th>love_count</th>\n",
       "      <th>retweet_count</th>\n",
       "      <th>minute</th>\n",
       "    </tr>\n",
       "    <tr>\n",
       "      <th></th>\n",
       "      <th>count_pos</th>\n",
       "      <th>count_neg</th>\n",
       "      <th>count_neu</th>\n",
       "      <th>sum</th>\n",
       "      <th>mean</th>\n",
       "      <th>sum</th>\n",
       "      <th>mean</th>\n",
       "      <th>count</th>\n",
       "      <th>count</th>\n",
       "      <th>count</th>\n",
       "      <th>count</th>\n",
       "      <th>count</th>\n",
       "      <th>count</th>\n",
       "      <th>max</th>\n",
       "    </tr>\n",
       "    <tr>\n",
       "      <th>minute</th>\n",
       "      <th></th>\n",
       "      <th></th>\n",
       "      <th></th>\n",
       "      <th></th>\n",
       "      <th></th>\n",
       "      <th></th>\n",
       "      <th></th>\n",
       "      <th></th>\n",
       "      <th></th>\n",
       "      <th></th>\n",
       "      <th></th>\n",
       "      <th></th>\n",
       "      <th></th>\n",
       "      <th></th>\n",
       "    </tr>\n",
       "  </thead>\n",
       "  <tbody>\n",
       "    <tr>\n",
       "      <th>2018-08-20 23:41:00</th>\n",
       "      <td>0.0</td>\n",
       "      <td>0.0</td>\n",
       "      <td>1.0</td>\n",
       "      <td>47.0</td>\n",
       "      <td>NaN</td>\n",
       "      <td>3</td>\n",
       "      <td>NaN</td>\n",
       "      <td>0</td>\n",
       "      <td>0</td>\n",
       "      <td>0</td>\n",
       "      <td>0</td>\n",
       "      <td>0</td>\n",
       "      <td>0</td>\n",
       "      <td>2018-08-20 23:41:00</td>\n",
       "    </tr>\n",
       "    <tr>\n",
       "      <th>2018-08-20 23:42:00</th>\n",
       "      <td>1.0</td>\n",
       "      <td>0.0</td>\n",
       "      <td>0.0</td>\n",
       "      <td>7.0</td>\n",
       "      <td>NaN</td>\n",
       "      <td>1</td>\n",
       "      <td>NaN</td>\n",
       "      <td>1</td>\n",
       "      <td>0</td>\n",
       "      <td>0</td>\n",
       "      <td>0</td>\n",
       "      <td>0</td>\n",
       "      <td>0</td>\n",
       "      <td>2018-08-20 23:42:00</td>\n",
       "    </tr>\n",
       "    <tr>\n",
       "      <th>2018-08-20 23:45:00</th>\n",
       "      <td>1.0</td>\n",
       "      <td>0.0</td>\n",
       "      <td>0.0</td>\n",
       "      <td>2731.0</td>\n",
       "      <td>NaN</td>\n",
       "      <td>8</td>\n",
       "      <td>NaN</td>\n",
       "      <td>0</td>\n",
       "      <td>0</td>\n",
       "      <td>0</td>\n",
       "      <td>0</td>\n",
       "      <td>0</td>\n",
       "      <td>0</td>\n",
       "      <td>2018-08-20 23:45:00</td>\n",
       "    </tr>\n",
       "    <tr>\n",
       "      <th>2018-08-20 23:52:00</th>\n",
       "      <td>0.0</td>\n",
       "      <td>0.0</td>\n",
       "      <td>1.0</td>\n",
       "      <td>86.0</td>\n",
       "      <td>NaN</td>\n",
       "      <td>4</td>\n",
       "      <td>NaN</td>\n",
       "      <td>0</td>\n",
       "      <td>0</td>\n",
       "      <td>0</td>\n",
       "      <td>0</td>\n",
       "      <td>0</td>\n",
       "      <td>0</td>\n",
       "      <td>2018-08-20 23:52:00</td>\n",
       "    </tr>\n",
       "    <tr>\n",
       "      <th>2018-08-20 23:55:00</th>\n",
       "      <td>8.0</td>\n",
       "      <td>0.0</td>\n",
       "      <td>1.0</td>\n",
       "      <td>238.0</td>\n",
       "      <td>NaN</td>\n",
       "      <td>24</td>\n",
       "      <td>NaN</td>\n",
       "      <td>0</td>\n",
       "      <td>0</td>\n",
       "      <td>0</td>\n",
       "      <td>0</td>\n",
       "      <td>0</td>\n",
       "      <td>0</td>\n",
       "      <td>2018-08-20 23:55:00</td>\n",
       "    </tr>\n",
       "  </tbody>\n",
       "</table>\n",
       "</div>"
      ],
      "text/plain": [
       "                    auto_sentiment                       reach virality  \\\n",
       "                         count_pos count_neg count_neu     sum     mean   \n",
       "minute                                                                    \n",
       "2018-08-20 23:41:00            0.0       0.0       1.0    47.0      NaN   \n",
       "2018-08-20 23:42:00            1.0       0.0       0.0     7.0      NaN   \n",
       "2018-08-20 23:45:00            1.0       0.0       0.0  2731.0      NaN   \n",
       "2018-08-20 23:52:00            0.0       0.0       1.0    86.0      NaN   \n",
       "2018-08-20 23:55:00            8.0       0.0       1.0   238.0      NaN   \n",
       "\n",
       "                    influence_score followers like_count comment_count  \\\n",
       "                                sum      mean      count         count   \n",
       "minute                                                                   \n",
       "2018-08-20 23:41:00               3       NaN          0             0   \n",
       "2018-08-20 23:42:00               1       NaN          1             0   \n",
       "2018-08-20 23:45:00               8       NaN          0             0   \n",
       "2018-08-20 23:52:00               4       NaN          0             0   \n",
       "2018-08-20 23:55:00              24       NaN          0             0   \n",
       "\n",
       "                    share_count tweet_count love_count retweet_count  \\\n",
       "                          count       count      count         count   \n",
       "minute                                                                 \n",
       "2018-08-20 23:41:00           0           0          0             0   \n",
       "2018-08-20 23:42:00           0           0          0             0   \n",
       "2018-08-20 23:45:00           0           0          0             0   \n",
       "2018-08-20 23:52:00           0           0          0             0   \n",
       "2018-08-20 23:55:00           0           0          0             0   \n",
       "\n",
       "                                 minute  \n",
       "                                    max  \n",
       "minute                                   \n",
       "2018-08-20 23:41:00 2018-08-20 23:41:00  \n",
       "2018-08-20 23:42:00 2018-08-20 23:42:00  \n",
       "2018-08-20 23:45:00 2018-08-20 23:45:00  \n",
       "2018-08-20 23:52:00 2018-08-20 23:52:00  \n",
       "2018-08-20 23:55:00 2018-08-20 23:55:00  "
      ]
     },
     "execution_count": 585,
     "metadata": {},
     "output_type": "execute_result"
    }
   ],
   "source": [
    "df1.head()"
   ]
  },
  {
   "cell_type": "markdown",
   "metadata": {},
   "source": [
    "dropping dataframe column level to zero"
   ]
  },
  {
   "cell_type": "code",
   "execution_count": 586,
   "metadata": {},
   "outputs": [],
   "source": [
    "df1.columns = df1.columns.droplevel(level=0)"
   ]
  },
  {
   "cell_type": "markdown",
   "metadata": {},
   "source": [
    "Renaming columns"
   ]
  },
  {
   "cell_type": "code",
   "execution_count": 587,
   "metadata": {},
   "outputs": [
    {
     "data": {
      "text/plain": [
       "Index(['count_pos', 'count_neg', 'count_neu', 'sum', 'mean', 'sum', 'mean',\n",
       "       'count', 'count', 'count', 'count', 'count', 'count', 'max'],\n",
       "      dtype='object')"
      ]
     },
     "execution_count": 587,
     "metadata": {},
     "output_type": "execute_result"
    }
   ],
   "source": [
    "df1.columns"
   ]
  },
  {
   "cell_type": "code",
   "execution_count": 588,
   "metadata": {},
   "outputs": [],
   "source": [
    "df1=df1.rename(columns={\n",
    "    'count_pos':'positive_sentiment', 'count_neg':'negative_sentiment', 'count_neu':'neutral_sentiment', 'sum':'reach_sum', 'mean':'virality_mean', 'sum':'influence_score_sum', 'mean':'followers_mean',\n",
    "       'count':'like_count', 'count':'comment_count', 'count':'share_count', 'count':'tweet_count', 'count':'love_count', 'count':'retweet_count', 'max':'minute'\n",
    "})"
   ]
  },
  {
   "cell_type": "code",
   "execution_count": 589,
   "metadata": {},
   "outputs": [],
   "source": [
    "df1.columns=['positive_sentiment','negative_sentiment','neutral_sentiment','reach_sum',\n",
    "            'virality_mean','influence_score_sum','followers_mean','like_count',\n",
    "            'comment_count','share_count','tweet_count','love_count','retweet_count','minute']"
   ]
  },
  {
   "cell_type": "markdown",
   "metadata": {},
   "source": [
    "# Calculating Score"
   ]
  },
  {
   "cell_type": "code",
   "execution_count": 590,
   "metadata": {},
   "outputs": [
    {
     "data": {
      "text/html": [
       "<div>\n",
       "<style scoped>\n",
       "    .dataframe tbody tr th:only-of-type {\n",
       "        vertical-align: middle;\n",
       "    }\n",
       "\n",
       "    .dataframe tbody tr th {\n",
       "        vertical-align: top;\n",
       "    }\n",
       "\n",
       "    .dataframe thead th {\n",
       "        text-align: right;\n",
       "    }\n",
       "</style>\n",
       "<table border=\"1\" class=\"dataframe\">\n",
       "  <thead>\n",
       "    <tr style=\"text-align: right;\">\n",
       "      <th></th>\n",
       "      <th>positive_sentiment</th>\n",
       "      <th>negative_sentiment</th>\n",
       "      <th>neutral_sentiment</th>\n",
       "      <th>reach_sum</th>\n",
       "      <th>virality_mean</th>\n",
       "      <th>influence_score_sum</th>\n",
       "      <th>followers_mean</th>\n",
       "      <th>like_count</th>\n",
       "      <th>comment_count</th>\n",
       "      <th>share_count</th>\n",
       "      <th>tweet_count</th>\n",
       "      <th>love_count</th>\n",
       "      <th>retweet_count</th>\n",
       "      <th>minute</th>\n",
       "    </tr>\n",
       "    <tr>\n",
       "      <th>minute</th>\n",
       "      <th></th>\n",
       "      <th></th>\n",
       "      <th></th>\n",
       "      <th></th>\n",
       "      <th></th>\n",
       "      <th></th>\n",
       "      <th></th>\n",
       "      <th></th>\n",
       "      <th></th>\n",
       "      <th></th>\n",
       "      <th></th>\n",
       "      <th></th>\n",
       "      <th></th>\n",
       "      <th></th>\n",
       "    </tr>\n",
       "  </thead>\n",
       "  <tbody>\n",
       "    <tr>\n",
       "      <th>2018-08-20 23:41:00</th>\n",
       "      <td>0.0</td>\n",
       "      <td>0.0</td>\n",
       "      <td>1.0</td>\n",
       "      <td>47.0</td>\n",
       "      <td>NaN</td>\n",
       "      <td>3</td>\n",
       "      <td>NaN</td>\n",
       "      <td>0</td>\n",
       "      <td>0</td>\n",
       "      <td>0</td>\n",
       "      <td>0</td>\n",
       "      <td>0</td>\n",
       "      <td>0</td>\n",
       "      <td>2018-08-20 23:41:00</td>\n",
       "    </tr>\n",
       "    <tr>\n",
       "      <th>2018-08-20 23:42:00</th>\n",
       "      <td>1.0</td>\n",
       "      <td>0.0</td>\n",
       "      <td>0.0</td>\n",
       "      <td>7.0</td>\n",
       "      <td>NaN</td>\n",
       "      <td>1</td>\n",
       "      <td>NaN</td>\n",
       "      <td>1</td>\n",
       "      <td>0</td>\n",
       "      <td>0</td>\n",
       "      <td>0</td>\n",
       "      <td>0</td>\n",
       "      <td>0</td>\n",
       "      <td>2018-08-20 23:42:00</td>\n",
       "    </tr>\n",
       "    <tr>\n",
       "      <th>2018-08-20 23:45:00</th>\n",
       "      <td>1.0</td>\n",
       "      <td>0.0</td>\n",
       "      <td>0.0</td>\n",
       "      <td>2731.0</td>\n",
       "      <td>NaN</td>\n",
       "      <td>8</td>\n",
       "      <td>NaN</td>\n",
       "      <td>0</td>\n",
       "      <td>0</td>\n",
       "      <td>0</td>\n",
       "      <td>0</td>\n",
       "      <td>0</td>\n",
       "      <td>0</td>\n",
       "      <td>2018-08-20 23:45:00</td>\n",
       "    </tr>\n",
       "    <tr>\n",
       "      <th>2018-08-20 23:52:00</th>\n",
       "      <td>0.0</td>\n",
       "      <td>0.0</td>\n",
       "      <td>1.0</td>\n",
       "      <td>86.0</td>\n",
       "      <td>NaN</td>\n",
       "      <td>4</td>\n",
       "      <td>NaN</td>\n",
       "      <td>0</td>\n",
       "      <td>0</td>\n",
       "      <td>0</td>\n",
       "      <td>0</td>\n",
       "      <td>0</td>\n",
       "      <td>0</td>\n",
       "      <td>2018-08-20 23:52:00</td>\n",
       "    </tr>\n",
       "    <tr>\n",
       "      <th>2018-08-20 23:55:00</th>\n",
       "      <td>8.0</td>\n",
       "      <td>0.0</td>\n",
       "      <td>1.0</td>\n",
       "      <td>238.0</td>\n",
       "      <td>NaN</td>\n",
       "      <td>24</td>\n",
       "      <td>NaN</td>\n",
       "      <td>0</td>\n",
       "      <td>0</td>\n",
       "      <td>0</td>\n",
       "      <td>0</td>\n",
       "      <td>0</td>\n",
       "      <td>0</td>\n",
       "      <td>2018-08-20 23:55:00</td>\n",
       "    </tr>\n",
       "  </tbody>\n",
       "</table>\n",
       "</div>"
      ],
      "text/plain": [
       "                     positive_sentiment  negative_sentiment  \\\n",
       "minute                                                        \n",
       "2018-08-20 23:41:00                 0.0                 0.0   \n",
       "2018-08-20 23:42:00                 1.0                 0.0   \n",
       "2018-08-20 23:45:00                 1.0                 0.0   \n",
       "2018-08-20 23:52:00                 0.0                 0.0   \n",
       "2018-08-20 23:55:00                 8.0                 0.0   \n",
       "\n",
       "                     neutral_sentiment  reach_sum  virality_mean  \\\n",
       "minute                                                             \n",
       "2018-08-20 23:41:00                1.0       47.0            NaN   \n",
       "2018-08-20 23:42:00                0.0        7.0            NaN   \n",
       "2018-08-20 23:45:00                0.0     2731.0            NaN   \n",
       "2018-08-20 23:52:00                1.0       86.0            NaN   \n",
       "2018-08-20 23:55:00                1.0      238.0            NaN   \n",
       "\n",
       "                     influence_score_sum  followers_mean  like_count  \\\n",
       "minute                                                                 \n",
       "2018-08-20 23:41:00                    3             NaN           0   \n",
       "2018-08-20 23:42:00                    1             NaN           1   \n",
       "2018-08-20 23:45:00                    8             NaN           0   \n",
       "2018-08-20 23:52:00                    4             NaN           0   \n",
       "2018-08-20 23:55:00                   24             NaN           0   \n",
       "\n",
       "                     comment_count  share_count  tweet_count  love_count  \\\n",
       "minute                                                                     \n",
       "2018-08-20 23:41:00              0            0            0           0   \n",
       "2018-08-20 23:42:00              0            0            0           0   \n",
       "2018-08-20 23:45:00              0            0            0           0   \n",
       "2018-08-20 23:52:00              0            0            0           0   \n",
       "2018-08-20 23:55:00              0            0            0           0   \n",
       "\n",
       "                     retweet_count              minute  \n",
       "minute                                                  \n",
       "2018-08-20 23:41:00              0 2018-08-20 23:41:00  \n",
       "2018-08-20 23:42:00              0 2018-08-20 23:42:00  \n",
       "2018-08-20 23:45:00              0 2018-08-20 23:45:00  \n",
       "2018-08-20 23:52:00              0 2018-08-20 23:52:00  \n",
       "2018-08-20 23:55:00              0 2018-08-20 23:55:00  "
      ]
     },
     "execution_count": 590,
     "metadata": {},
     "output_type": "execute_result"
    }
   ],
   "source": [
    "df1.head()"
   ]
  },
  {
   "cell_type": "markdown",
   "metadata": {},
   "source": [
    "Normalize data"
   ]
  },
  {
   "cell_type": "code",
   "execution_count": 591,
   "metadata": {},
   "outputs": [],
   "source": [
    "df_norm=pd.DataFrame(df1.index)\n",
    "df_norm.set_index(\"minute\", inplace=True)"
   ]
  },
  {
   "cell_type": "code",
   "execution_count": 592,
   "metadata": {},
   "outputs": [],
   "source": [
    "df_norm['reach_sum']=(df1[['reach_sum']]-df1[['reach_sum']].mean())/df1[['reach_sum']].std()\n",
    "df_norm['virality_mean']=(df1[['virality_mean']]-df1[['virality_mean']].mean())/df1[['virality_mean']].std()\n",
    "df_norm['influence_score_sum']=(df1[['influence_score_sum']]-df1[['influence_score_sum']].mean())/df1[['influence_score_sum']].std()\n",
    "df_norm['followers_mean']=(df1[['followers_mean']]-df1[['followers_mean']].mean())/df1[['followers_mean']].std()\n",
    "df_norm['like_count']=(df1[['like_count']]-df1[['like_count']].mean())/df1[['like_count']].std()\n",
    "df_norm['comment_count']=(df1[['comment_count']]-df1[['comment_count']].mean())/df1[['comment_count']].std()\n",
    "df_norm['share_count']=(df1[['share_count']]-df1[['share_count']].mean())/df1[['share_count']].std()\n",
    "df_norm['tweet_count']=(df1[['tweet_count']]-df1[['tweet_count']].mean())/df1[['tweet_count']].std()\n",
    "df_norm['love_count']=(df1[['love_count']]-df1[['love_count']].mean())/df1[['love_count']].std()\n",
    "df_norm['retweet_count']=(df1[['retweet_count']]-df1[['retweet_count']].mean())/df1[['retweet_count']].std()\n",
    "df_norm['positive_sentiment']=(df1[['positive_sentiment']]-df1[['positive_sentiment']].mean())/df1[['positive_sentiment']].std()\n",
    "df_norm['negative_sentiment']=(df1[['negative_sentiment']]-df1[['negative_sentiment']].mean())/df1[['negative_sentiment']].std()"
   ]
  },
  {
   "cell_type": "code",
   "execution_count": 593,
   "metadata": {},
   "outputs": [],
   "source": [
    "df_norm=df_norm.fillna(0)"
   ]
  },
  {
   "cell_type": "code",
   "execution_count": 594,
   "metadata": {},
   "outputs": [],
   "source": [
    "df_norm['score']=df_norm['followers_mean']+df_norm['virality_mean']+df_norm['influence_score_sum']+df_norm['followers_mean']+df_norm['like_count']+df_norm['comment_count']+df_norm['share_count']+df_norm['tweet_count']+df_norm['love_count']+df_norm['retweet_count']+df_norm['positive_sentiment']+df_norm['negative_sentiment']"
   ]
  },
  {
   "cell_type": "code",
   "execution_count": 595,
   "metadata": {},
   "outputs": [
    {
     "data": {
      "text/plain": [
       "<matplotlib.axes._subplots.AxesSubplot at 0x27cbe40ef28>"
      ]
     },
     "execution_count": 595,
     "metadata": {},
     "output_type": "execute_result"
    },
    {
     "data": {
      "image/png": "[encoded data removed]",
      "text/plain": [
       "<Figure size 720x576 with 1 Axes>"
      ]
     },
     "metadata": {},
     "output_type": "display_data"
    }
   ],
   "source": [
    " df_norm.score.plot(figsize=(10,8))"
   ]
  },
  {
   "cell_type": "markdown",
   "metadata": {},
   "source": [
    "# Getting price data AAPL"
   ]
  },
  {
   "cell_type": "code",
   "execution_count": 596,
   "metadata": {},
   "outputs": [],
   "source": [
    "price_path = 'C:/Users/rzouga/Desktop/Stage-vermeg/Sentiment analysis through mediaToolkit/Final report (24-30)/price data/AAPL(24-30).csv'"
   ]
  },
  {
   "cell_type": "code",
   "execution_count": 597,
   "metadata": {},
   "outputs": [],
   "source": [
    "df_price = pd.read_csv(price_path)"
   ]
  },
  {
   "cell_type": "code",
   "execution_count": 598,
   "metadata": {},
   "outputs": [],
   "source": [
    "df_price[[\"Name\"]] = df_price[[\"Name\"]].apply(pd.to_datetime)\n",
    "df_price.set_index('Name',inplace=True)"
   ]
  },
  {
   "cell_type": "code",
   "execution_count": 599,
   "metadata": {},
   "outputs": [],
   "source": [
    "df_price=df_price.rename(columns={\n",
    "    'Value.1. open':'open', 'Value.2. high':'high', 'Value.3. low':'low', 'Value.4. close':'close',\n",
    "       'Value.5. volume':'volume'\n",
    "})"
   ]
  },
  {
   "cell_type": "code",
   "execution_count": 600,
   "metadata": {},
   "outputs": [
    {
     "data": {
      "text/plain": [
       "<matplotlib.axes._subplots.AxesSubplot at 0x27cc364d2e8>"
      ]
     },
     "execution_count": 600,
     "metadata": {},
     "output_type": "execute_result"
    },
    {
     "data": {
      "image/png": "[encoded data removed]",
      "text/plain": [
       "<Figure size 720x576 with 1 Axes>"
      ]
     },
     "metadata": {},
     "output_type": "display_data"
    }
   ],
   "source": [
    "df_price.close.plot(figsize=(10,8))"
   ]
  },
  {
   "cell_type": "markdown",
   "metadata": {},
   "source": [
    "# Getting price data APC.F"
   ]
  },
  {
   "cell_type": "code",
   "execution_count": 601,
   "metadata": {},
   "outputs": [],
   "source": [
    "price_path2 = 'C:/Users/rzouga/Desktop/Stage-vermeg/Sentiment analysis through mediaToolkit/Final report (24-30)/price data/APC.F 15 (23-31).csv'"
   ]
  },
  {
   "cell_type": "code",
   "execution_count": 602,
   "metadata": {},
   "outputs": [],
   "source": [
    "df_price2 = pd.read_csv(price_path2)"
   ]
  },
  {
   "cell_type": "code",
   "execution_count": 603,
   "metadata": {},
   "outputs": [],
   "source": [
    "df_price2[[\"Name\"]] = df_price2[[\"Name\"]].apply(pd.to_datetime)\n",
    "df_price2.set_index('Name',inplace=True)"
   ]
  },
  {
   "cell_type": "code",
   "execution_count": 604,
   "metadata": {},
   "outputs": [],
   "source": [
    "df_price2=df_price2.rename(columns={\n",
    "    'Value.1. open':'open', 'Value.2. high':'high', 'Value.3. low':'low', 'Value.4. close':'close',\n",
    "       'Value.5. volume':'volume'\n",
    "})"
   ]
  },
  {
   "cell_type": "code",
   "execution_count": 605,
   "metadata": {},
   "outputs": [
    {
     "data": {
      "text/plain": [
       "<matplotlib.axes._subplots.AxesSubplot at 0x27cc0d594e0>"
      ]
     },
     "execution_count": 605,
     "metadata": {},
     "output_type": "execute_result"
    },
    {
     "data": {
      "image/png": "[encoded data removed]",
      "text/plain": [
       "<Figure size 720x576 with 1 Axes>"
      ]
     },
     "metadata": {},
     "output_type": "display_data"
    }
   ],
   "source": [
    "df_price2.close.plot(figsize=(10,8))"
   ]
  },
  {
   "cell_type": "markdown",
   "metadata": {},
   "source": [
    "# TIME SERIES ANALYSIS"
   ]
  },
  {
   "cell_type": "markdown",
   "metadata": {},
   "source": [
    "AAPL price"
   ]
  },
  {
   "cell_type": "code",
   "execution_count": 606,
   "metadata": {},
   "outputs": [],
   "source": [
    "timeseries = df_price['close']"
   ]
  },
  {
   "cell_type": "code",
   "execution_count": 607,
   "metadata": {},
   "outputs": [
    {
     "data": {
      "text/plain": [
       "<matplotlib.legend.Legend at 0x27cc0d41cf8>"
      ]
     },
     "execution_count": 607,
     "metadata": {},
     "output_type": "execute_result"
    },
    {
     "data": {
      "image/png": "[encoded data removed]",
      "text/plain": [
       "<Figure size 576x576 with 1 Axes>"
      ]
     },
     "metadata": {},
     "output_type": "display_data"
    }
   ],
   "source": [
    "timeseries.rolling(60).mean().plot(label='60 min Rolling Mean')\n",
    "timeseries.plot(figsize=(8,8))\n",
    "plt.legend()"
   ]
  },
  {
   "cell_type": "markdown",
   "metadata": {},
   "source": [
    "APC.F price"
   ]
  },
  {
   "cell_type": "code",
   "execution_count": 608,
   "metadata": {},
   "outputs": [
    {
     "data": {
      "text/plain": [
       "<matplotlib.legend.Legend at 0x27cc56d2160>"
      ]
     },
     "execution_count": 608,
     "metadata": {},
     "output_type": "execute_result"
    },
    {
     "data": {
      "image/png": "[encoded data removed]",
      "text/plain": [
       "<Figure size 576x576 with 1 Axes>"
      ]
     },
     "metadata": {},
     "output_type": "display_data"
    }
   ],
   "source": [
    "timeseries2 = df_price2['close']\n",
    "timeseries2.rolling(4).mean().plot(label='60 min Rolling Mean')\n",
    "timeseries2.plot(figsize=(8,8))\n",
    "plt.legend()"
   ]
  },
  {
   "cell_type": "markdown",
   "metadata": {},
   "source": [
    "# Decomposition"
   ]
  },
  {
   "cell_type": "code",
   "execution_count": 609,
   "metadata": {},
   "outputs": [
    {
     "data": {
      "text/plain": [
       "<Figure size 432x288 with 0 Axes>"
      ]
     },
     "metadata": {},
     "output_type": "display_data"
    },
    {
     "data": {
      "image/png": "[encoded data removed]",
      "text/plain": [
       "<Figure size 1080x576 with 4 Axes>"
      ]
     },
     "metadata": {},
     "output_type": "display_data"
    }
   ],
   "source": [
    "from statsmodels.tsa.seasonal import seasonal_decompose\n",
    "decomposition = seasonal_decompose(df_price['close'], freq=80,model='additive')  \n",
    "fig = plt.figure()  \n",
    "fig = decomposition.plot()  \n",
    "fig.set_size_inches(15, 8)"
   ]
  },
  {
   "cell_type": "code",
   "execution_count": 610,
   "metadata": {},
   "outputs": [
    {
     "data": {
      "text/plain": [
       "<matplotlib.axes._subplots.AxesSubplot at 0x27cc73f40b8>"
      ]
     },
     "execution_count": 610,
     "metadata": {},
     "output_type": "execute_result"
    },
    {
     "data": {
      "image/png": "[encoded data removed]",
      "text/plain": [
       "<Figure size 720x576 with 1 Axes>"
      ]
     },
     "metadata": {},
     "output_type": "display_data"
    }
   ],
   "source": [
    "decomposition.trend.plot(figsize=(10,8))"
   ]
  },
  {
   "cell_type": "markdown",
   "metadata": {},
   "source": [
    "Normalizing df_price to df_price_norm"
   ]
  },
  {
   "cell_type": "code",
   "execution_count": 611,
   "metadata": {},
   "outputs": [],
   "source": [
    "df_price_norm=pd.DataFrame(df_price.index)\n",
    "df_price_norm.set_index(\"Name\", inplace=True)"
   ]
  },
  {
   "cell_type": "code",
   "execution_count": 612,
   "metadata": {},
   "outputs": [],
   "source": [
    "df_price_norm['open-aapl']=(df_price[['open']]-df_price[['open']].mean())/df_price[['open']].std()\n",
    "df_price_norm['high-aapl']=(df_price[['high']]-df_price[['high']].mean())/df_price[['high']].std()\n",
    "df_price_norm['low-aapl']=(df_price[['low']]-df_price[['low']].mean())/df_price[['low']].std()\n",
    "df_price_norm['close-aapl']=(df_price[['close']]-df_price[['close']].mean())/df_price[['close']].std()\n",
    "df_price_norm['volume-aapl']=(df_price[['volume']]-df_price[['volume']].mean())/df_price[['volume']].std()"
   ]
  },
  {
   "cell_type": "code",
   "execution_count": 613,
   "metadata": {},
   "outputs": [
    {
     "data": {
      "text/html": [
       "<div>\n",
       "<style scoped>\n",
       "    .dataframe tbody tr th:only-of-type {\n",
       "        vertical-align: middle;\n",
       "    }\n",
       "\n",
       "    .dataframe tbody tr th {\n",
       "        vertical-align: top;\n",
       "    }\n",
       "\n",
       "    .dataframe thead th {\n",
       "        text-align: right;\n",
       "    }\n",
       "</style>\n",
       "<table border=\"1\" class=\"dataframe\">\n",
       "  <thead>\n",
       "    <tr style=\"text-align: right;\">\n",
       "      <th></th>\n",
       "      <th>open-aapl</th>\n",
       "      <th>high-aapl</th>\n",
       "      <th>low-aapl</th>\n",
       "      <th>close-aapl</th>\n",
       "      <th>volume-aapl</th>\n",
       "    </tr>\n",
       "    <tr>\n",
       "      <th>Name</th>\n",
       "      <th></th>\n",
       "      <th></th>\n",
       "      <th></th>\n",
       "      <th></th>\n",
       "      <th></th>\n",
       "    </tr>\n",
       "  </thead>\n",
       "  <tbody>\n",
       "    <tr>\n",
       "      <th>2018-08-30 15:59:00</th>\n",
       "      <td>1.524621</td>\n",
       "      <td>1.538074</td>\n",
       "      <td>1.521751</td>\n",
       "      <td>1.498456</td>\n",
       "      <td>5.900516</td>\n",
       "    </tr>\n",
       "    <tr>\n",
       "      <th>2018-08-30 15:58:00</th>\n",
       "      <td>1.546276</td>\n",
       "      <td>1.531918</td>\n",
       "      <td>1.527964</td>\n",
       "      <td>1.520101</td>\n",
       "      <td>2.331873</td>\n",
       "    </tr>\n",
       "    <tr>\n",
       "      <th>2018-08-30 15:57:00</th>\n",
       "      <td>1.549370</td>\n",
       "      <td>1.528839</td>\n",
       "      <td>1.549711</td>\n",
       "      <td>1.541746</td>\n",
       "      <td>1.412801</td>\n",
       "    </tr>\n",
       "    <tr>\n",
       "      <th>2018-08-30 15:56:00</th>\n",
       "      <td>1.536995</td>\n",
       "      <td>1.530748</td>\n",
       "      <td>1.552817</td>\n",
       "      <td>1.551764</td>\n",
       "      <td>1.045686</td>\n",
       "    </tr>\n",
       "    <tr>\n",
       "      <th>2018-08-30 15:55:00</th>\n",
       "      <td>1.527714</td>\n",
       "      <td>1.538074</td>\n",
       "      <td>1.546946</td>\n",
       "      <td>1.538654</td>\n",
       "      <td>1.412469</td>\n",
       "    </tr>\n",
       "  </tbody>\n",
       "</table>\n",
       "</div>"
      ],
      "text/plain": [
       "                     open-aapl  high-aapl  low-aapl  close-aapl  volume-aapl\n",
       "Name                                                                        \n",
       "2018-08-30 15:59:00   1.524621   1.538074  1.521751    1.498456     5.900516\n",
       "2018-08-30 15:58:00   1.546276   1.531918  1.527964    1.520101     2.331873\n",
       "2018-08-30 15:57:00   1.549370   1.528839  1.549711    1.541746     1.412801\n",
       "2018-08-30 15:56:00   1.536995   1.530748  1.552817    1.551764     1.045686\n",
       "2018-08-30 15:55:00   1.527714   1.538074  1.546946    1.538654     1.412469"
      ]
     },
     "execution_count": 613,
     "metadata": {},
     "output_type": "execute_result"
    }
   ],
   "source": [
    "df_price_norm.head()"
   ]
  },
  {
   "cell_type": "markdown",
   "metadata": {},
   "source": [
    "Normalizing df_price2 to df_price_norm2"
   ]
  },
  {
   "cell_type": "code",
   "execution_count": 614,
   "metadata": {},
   "outputs": [],
   "source": [
    "df_price_norm2=pd.DataFrame(df_price2.index)\n",
    "df_price_norm2.set_index(\"Name\", inplace=True)"
   ]
  },
  {
   "cell_type": "code",
   "execution_count": 615,
   "metadata": {},
   "outputs": [],
   "source": [
    "df_price_norm2['open-apc']=(df_price2[['open']]-df_price2[['open']].mean())/df_price2[['open']].std()\n",
    "df_price_norm2['high-apc']=(df_price2[['high']]-df_price2[['high']].mean())/df_price2[['high']].std()\n",
    "df_price_norm2['low-apc']=(df_price2[['low']]-df_price2[['low']].mean())/df_price2[['low']].std()\n",
    "df_price_norm2['close-apc']=(df_price2[['close']]-df_price2[['close']].mean())/df_price2[['close']].std()\n",
    "df_price_norm2['volume-apc']=(df_price2[['volume']]-df_price2[['volume']].mean())/df_price2[['volume']].std()"
   ]
  },
  {
   "cell_type": "code",
   "execution_count": 616,
   "metadata": {},
   "outputs": [
    {
     "data": {
      "text/html": [
       "<div>\n",
       "<style scoped>\n",
       "    .dataframe tbody tr th:only-of-type {\n",
       "        vertical-align: middle;\n",
       "    }\n",
       "\n",
       "    .dataframe tbody tr th {\n",
       "        vertical-align: top;\n",
       "    }\n",
       "\n",
       "    .dataframe thead th {\n",
       "        text-align: right;\n",
       "    }\n",
       "</style>\n",
       "<table border=\"1\" class=\"dataframe\">\n",
       "  <thead>\n",
       "    <tr style=\"text-align: right;\">\n",
       "      <th></th>\n",
       "      <th>open-apc</th>\n",
       "      <th>high-apc</th>\n",
       "      <th>low-apc</th>\n",
       "      <th>close-apc</th>\n",
       "      <th>volume-apc</th>\n",
       "    </tr>\n",
       "    <tr>\n",
       "      <th>Name</th>\n",
       "      <th></th>\n",
       "      <th></th>\n",
       "      <th></th>\n",
       "      <th></th>\n",
       "      <th></th>\n",
       "    </tr>\n",
       "  </thead>\n",
       "  <tbody>\n",
       "    <tr>\n",
       "      <th>2018-08-31 13:30:00</th>\n",
       "      <td>2.266922</td>\n",
       "      <td>2.317784</td>\n",
       "      <td>2.306812</td>\n",
       "      <td>2.359647</td>\n",
       "      <td>-0.205318</td>\n",
       "    </tr>\n",
       "    <tr>\n",
       "      <th>2018-08-31 13:15:00</th>\n",
       "      <td>2.417634</td>\n",
       "      <td>2.373500</td>\n",
       "      <td>2.458985</td>\n",
       "      <td>2.412831</td>\n",
       "      <td>-0.110568</td>\n",
       "    </tr>\n",
       "    <tr>\n",
       "      <th>2018-08-31 12:45:00</th>\n",
       "      <td>2.499269</td>\n",
       "      <td>2.444693</td>\n",
       "      <td>2.449474</td>\n",
       "      <td>2.397189</td>\n",
       "      <td>-0.401136</td>\n",
       "    </tr>\n",
       "    <tr>\n",
       "      <th>2018-08-31 12:30:00</th>\n",
       "      <td>2.317159</td>\n",
       "      <td>2.265163</td>\n",
       "      <td>2.319493</td>\n",
       "      <td>2.268920</td>\n",
       "      <td>-0.445353</td>\n",
       "    </tr>\n",
       "    <tr>\n",
       "      <th>2018-08-31 12:15:00</th>\n",
       "      <td>2.320299</td>\n",
       "      <td>2.268258</td>\n",
       "      <td>2.360707</td>\n",
       "      <td>2.309591</td>\n",
       "      <td>-0.470620</td>\n",
       "    </tr>\n",
       "  </tbody>\n",
       "</table>\n",
       "</div>"
      ],
      "text/plain": [
       "                     open-apc  high-apc   low-apc  close-apc  volume-apc\n",
       "Name                                                                    \n",
       "2018-08-31 13:30:00  2.266922  2.317784  2.306812   2.359647   -0.205318\n",
       "2018-08-31 13:15:00  2.417634  2.373500  2.458985   2.412831   -0.110568\n",
       "2018-08-31 12:45:00  2.499269  2.444693  2.449474   2.397189   -0.401136\n",
       "2018-08-31 12:30:00  2.317159  2.265163  2.319493   2.268920   -0.445353\n",
       "2018-08-31 12:15:00  2.320299  2.268258  2.360707   2.309591   -0.470620"
      ]
     },
     "execution_count": 616,
     "metadata": {},
     "output_type": "execute_result"
    }
   ],
   "source": [
    "df_price_norm2.head()"
   ]
  },
  {
   "cell_type": "markdown",
   "metadata": {},
   "source": [
    "# Creating new dataframe for join"
   ]
  },
  {
   "cell_type": "code",
   "execution_count": 617,
   "metadata": {},
   "outputs": [],
   "source": [
    "rng = pd.date_range(start='2018-08-20',end='2018-08-31', freq='1min')"
   ]
  },
  {
   "cell_type": "code",
   "execution_count": 618,
   "metadata": {},
   "outputs": [],
   "source": [
    "df_merge=pd.DataFrame(rng)\n",
    "df_merge.set_index(0, inplace=True)"
   ]
  },
  {
   "cell_type": "code",
   "execution_count": 619,
   "metadata": {},
   "outputs": [],
   "source": [
    "df_merge.index.name=\"minute\""
   ]
  },
  {
   "cell_type": "code",
   "execution_count": 620,
   "metadata": {},
   "outputs": [],
   "source": [
    "df_merge=df_merge.join(df_price_norm).join(df_norm).join(df_price_norm2)"
   ]
  },
  {
   "cell_type": "code",
   "execution_count": 621,
   "metadata": {},
   "outputs": [],
   "source": [
    "df_merge['open-apc']=df_merge['open-apc'].interpolate(method='linear', axis=0).ffill().bfill()\n",
    "df_merge['close-apc']=df_merge['close-apc'].interpolate(method='linear', axis=0).ffill().bfill()\n",
    "df_merge['volume-apc']=df_merge['volume-apc'].interpolate(method='linear', axis=0).ffill().bfill()\n",
    "df_merge['low-apc']=df_merge['low-apc'].interpolate(method='linear', axis=0).ffill().bfill()\n",
    "df_merge['high-apc']=df_merge['high-apc'].interpolate(method='linear', axis=0).ffill().bfill()"
   ]
  },
  {
   "cell_type": "code",
   "execution_count": 622,
   "metadata": {},
   "outputs": [],
   "source": [
    "df_merge['open-aapl']=df_merge['open-aapl'].interpolate(method='linear', axis=0).ffill().bfill()\n",
    "df_merge['close-aapl']=df_merge['close-aapl'].interpolate(method='linear', axis=0).ffill().bfill()\n",
    "df_merge['volume-aapl']=df_merge['volume-aapl'].interpolate(method='linear', axis=0).ffill().bfill()\n",
    "df_merge['low-aapl']=df_merge['low-aapl'].interpolate(method='linear', axis=0).ffill().bfill()\n",
    "df_merge['high-aapl']=df_merge['high-aapl'].interpolate(method='linear', axis=0).ffill().bfill()"
   ]
  },
  {
   "cell_type": "code",
   "execution_count": 623,
   "metadata": {},
   "outputs": [
    {
     "data": {
      "text/plain": [
       "<matplotlib.axes._subplots.AxesSubplot at 0x27cc74298d0>"
      ]
     },
     "execution_count": 623,
     "metadata": {},
     "output_type": "execute_result"
    },
    {
     "data": {
      "image/png": "[encoded data removed]",
      "text/plain": [
       "<Figure size 720x576 with 1 Axes>"
      ]
     },
     "metadata": {},
     "output_type": "display_data"
    }
   ],
   "source": [
    "df_merge[[\"score\",\"close-apc\"]].plot(figsize=(10,8))"
   ]
  },
  {
   "cell_type": "code",
   "execution_count": 624,
   "metadata": {},
   "outputs": [],
   "source": [
    "df_merge.to_csv(\"data-file.csv\")"
   ]
  },
  {
   "cell_type": "markdown",
   "metadata": {},
   "source": [
    "normalizing score"
   ]
  },
  {
   "cell_type": "code",
   "execution_count": 625,
   "metadata": {},
   "outputs": [],
   "source": [
    "df_merge['score']=(df_merge[['score']]-df_merge[['score']].mean())/df_merge[['score']].std()"
   ]
  },
  {
   "cell_type": "code",
   "execution_count": 626,
   "metadata": {},
   "outputs": [
    {
     "data": {
      "text/html": [
       "<div>\n",
       "<style scoped>\n",
       "    .dataframe tbody tr th:only-of-type {\n",
       "        vertical-align: middle;\n",
       "    }\n",
       "\n",
       "    .dataframe tbody tr th {\n",
       "        vertical-align: top;\n",
       "    }\n",
       "\n",
       "    .dataframe thead th {\n",
       "        text-align: right;\n",
       "    }\n",
       "</style>\n",
       "<table border=\"1\" class=\"dataframe\">\n",
       "  <thead>\n",
       "    <tr style=\"text-align: right;\">\n",
       "      <th></th>\n",
       "      <th>open-aapl</th>\n",
       "      <th>high-aapl</th>\n",
       "      <th>low-aapl</th>\n",
       "      <th>close-aapl</th>\n",
       "      <th>volume-aapl</th>\n",
       "      <th>reach_sum</th>\n",
       "      <th>virality_mean</th>\n",
       "      <th>influence_score_sum</th>\n",
       "      <th>followers_mean</th>\n",
       "      <th>like_count</th>\n",
       "      <th>...</th>\n",
       "      <th>love_count</th>\n",
       "      <th>retweet_count</th>\n",
       "      <th>positive_sentiment</th>\n",
       "      <th>negative_sentiment</th>\n",
       "      <th>score</th>\n",
       "      <th>open-apc</th>\n",
       "      <th>high-apc</th>\n",
       "      <th>low-apc</th>\n",
       "      <th>close-apc</th>\n",
       "      <th>volume-apc</th>\n",
       "    </tr>\n",
       "  </thead>\n",
       "  <tbody>\n",
       "    <tr>\n",
       "      <th>open-aapl</th>\n",
       "      <td>1.000000</td>\n",
       "      <td>0.999200</td>\n",
       "      <td>0.999317</td>\n",
       "      <td>0.999342</td>\n",
       "      <td>0.091684</td>\n",
       "      <td>0.125868</td>\n",
       "      <td>-0.015435</td>\n",
       "      <td>-0.011106</td>\n",
       "      <td>-0.036586</td>\n",
       "      <td>-0.004621</td>\n",
       "      <td>...</td>\n",
       "      <td>-0.024865</td>\n",
       "      <td>0.440490</td>\n",
       "      <td>0.067924</td>\n",
       "      <td>0.149918</td>\n",
       "      <td>0.106130</td>\n",
       "      <td>0.948410</td>\n",
       "      <td>0.950923</td>\n",
       "      <td>0.948794</td>\n",
       "      <td>0.950878</td>\n",
       "      <td>0.271148</td>\n",
       "    </tr>\n",
       "    <tr>\n",
       "      <th>high-aapl</th>\n",
       "      <td>0.999200</td>\n",
       "      <td>1.000000</td>\n",
       "      <td>0.998866</td>\n",
       "      <td>0.999589</td>\n",
       "      <td>0.099070</td>\n",
       "      <td>0.126559</td>\n",
       "      <td>-0.015072</td>\n",
       "      <td>-0.010701</td>\n",
       "      <td>-0.035366</td>\n",
       "      <td>-0.004140</td>\n",
       "      <td>...</td>\n",
       "      <td>-0.024601</td>\n",
       "      <td>0.439017</td>\n",
       "      <td>0.068019</td>\n",
       "      <td>0.147629</td>\n",
       "      <td>0.106056</td>\n",
       "      <td>0.944416</td>\n",
       "      <td>0.947454</td>\n",
       "      <td>0.945029</td>\n",
       "      <td>0.947647</td>\n",
       "      <td>0.271075</td>\n",
       "    </tr>\n",
       "    <tr>\n",
       "      <th>low-aapl</th>\n",
       "      <td>0.999317</td>\n",
       "      <td>0.998866</td>\n",
       "      <td>1.000000</td>\n",
       "      <td>0.999404</td>\n",
       "      <td>0.085270</td>\n",
       "      <td>0.125924</td>\n",
       "      <td>-0.015269</td>\n",
       "      <td>-0.009935</td>\n",
       "      <td>-0.036106</td>\n",
       "      <td>-0.004991</td>\n",
       "      <td>...</td>\n",
       "      <td>-0.024110</td>\n",
       "      <td>0.440419</td>\n",
       "      <td>0.068537</td>\n",
       "      <td>0.149662</td>\n",
       "      <td>0.106560</td>\n",
       "      <td>0.942462</td>\n",
       "      <td>0.946187</td>\n",
       "      <td>0.943231</td>\n",
       "      <td>0.946547</td>\n",
       "      <td>0.273705</td>\n",
       "    </tr>\n",
       "    <tr>\n",
       "      <th>close-aapl</th>\n",
       "      <td>0.999342</td>\n",
       "      <td>0.999589</td>\n",
       "      <td>0.999404</td>\n",
       "      <td>1.000000</td>\n",
       "      <td>0.090666</td>\n",
       "      <td>0.125287</td>\n",
       "      <td>-0.015110</td>\n",
       "      <td>-0.009515</td>\n",
       "      <td>-0.035697</td>\n",
       "      <td>-0.003184</td>\n",
       "      <td>...</td>\n",
       "      <td>-0.024454</td>\n",
       "      <td>0.436704</td>\n",
       "      <td>0.068307</td>\n",
       "      <td>0.147186</td>\n",
       "      <td>0.106355</td>\n",
       "      <td>0.945657</td>\n",
       "      <td>0.949682</td>\n",
       "      <td>0.946381</td>\n",
       "      <td>0.949985</td>\n",
       "      <td>0.272570</td>\n",
       "    </tr>\n",
       "    <tr>\n",
       "      <th>volume-aapl</th>\n",
       "      <td>0.091684</td>\n",
       "      <td>0.099070</td>\n",
       "      <td>0.085270</td>\n",
       "      <td>0.090666</td>\n",
       "      <td>1.000000</td>\n",
       "      <td>0.037810</td>\n",
       "      <td>-0.003281</td>\n",
       "      <td>-0.017585</td>\n",
       "      <td>-0.014181</td>\n",
       "      <td>-0.038532</td>\n",
       "      <td>...</td>\n",
       "      <td>-0.010946</td>\n",
       "      <td>0.131199</td>\n",
       "      <td>0.002099</td>\n",
       "      <td>0.052119</td>\n",
       "      <td>0.003363</td>\n",
       "      <td>0.099475</td>\n",
       "      <td>0.093711</td>\n",
       "      <td>0.088371</td>\n",
       "      <td>0.082164</td>\n",
       "      <td>0.098459</td>\n",
       "    </tr>\n",
       "    <tr>\n",
       "      <th>reach_sum</th>\n",
       "      <td>0.125868</td>\n",
       "      <td>0.126559</td>\n",
       "      <td>0.125924</td>\n",
       "      <td>0.125287</td>\n",
       "      <td>0.037810</td>\n",
       "      <td>1.000000</td>\n",
       "      <td>0.012305</td>\n",
       "      <td>0.124617</td>\n",
       "      <td>0.694855</td>\n",
       "      <td>0.036489</td>\n",
       "      <td>...</td>\n",
       "      <td>0.312445</td>\n",
       "      <td>0.262622</td>\n",
       "      <td>0.095667</td>\n",
       "      <td>0.170933</td>\n",
       "      <td>0.338948</td>\n",
       "      <td>0.102152</td>\n",
       "      <td>0.101492</td>\n",
       "      <td>0.101329</td>\n",
       "      <td>0.100740</td>\n",
       "      <td>0.030847</td>\n",
       "    </tr>\n",
       "    <tr>\n",
       "      <th>virality_mean</th>\n",
       "      <td>-0.015435</td>\n",
       "      <td>-0.015072</td>\n",
       "      <td>-0.015269</td>\n",
       "      <td>-0.015110</td>\n",
       "      <td>-0.003281</td>\n",
       "      <td>0.012305</td>\n",
       "      <td>1.000000</td>\n",
       "      <td>0.044446</td>\n",
       "      <td>0.000796</td>\n",
       "      <td>-0.009192</td>\n",
       "      <td>...</td>\n",
       "      <td>-0.002724</td>\n",
       "      <td>-0.009968</td>\n",
       "      <td>-0.025570</td>\n",
       "      <td>-0.000266</td>\n",
       "      <td>0.103187</td>\n",
       "      <td>-0.020126</td>\n",
       "      <td>-0.020218</td>\n",
       "      <td>-0.019582</td>\n",
       "      <td>-0.019683</td>\n",
       "      <td>-0.001765</td>\n",
       "    </tr>\n",
       "    <tr>\n",
       "      <th>influence_score_sum</th>\n",
       "      <td>-0.011106</td>\n",
       "      <td>-0.010701</td>\n",
       "      <td>-0.009935</td>\n",
       "      <td>-0.009515</td>\n",
       "      <td>-0.017585</td>\n",
       "      <td>0.124617</td>\n",
       "      <td>0.044446</td>\n",
       "      <td>1.000000</td>\n",
       "      <td>0.080359</td>\n",
       "      <td>0.802564</td>\n",
       "      <td>...</td>\n",
       "      <td>0.106668</td>\n",
       "      <td>-0.028097</td>\n",
       "      <td>0.767618</td>\n",
       "      <td>0.190255</td>\n",
       "      <td>0.846927</td>\n",
       "      <td>0.003571</td>\n",
       "      <td>0.007402</td>\n",
       "      <td>0.004820</td>\n",
       "      <td>0.008661</td>\n",
       "      <td>-0.014388</td>\n",
       "    </tr>\n",
       "    <tr>\n",
       "      <th>followers_mean</th>\n",
       "      <td>-0.036586</td>\n",
       "      <td>-0.035366</td>\n",
       "      <td>-0.036106</td>\n",
       "      <td>-0.035697</td>\n",
       "      <td>-0.014181</td>\n",
       "      <td>0.694855</td>\n",
       "      <td>0.000796</td>\n",
       "      <td>0.080359</td>\n",
       "      <td>1.000000</td>\n",
       "      <td>0.035604</td>\n",
       "      <td>...</td>\n",
       "      <td>0.492730</td>\n",
       "      <td>-0.059584</td>\n",
       "      <td>0.009007</td>\n",
       "      <td>-0.016065</td>\n",
       "      <td>0.310297</td>\n",
       "      <td>-0.035237</td>\n",
       "      <td>-0.034040</td>\n",
       "      <td>-0.034514</td>\n",
       "      <td>-0.033364</td>\n",
       "      <td>-0.019221</td>\n",
       "    </tr>\n",
       "    <tr>\n",
       "      <th>like_count</th>\n",
       "      <td>-0.004621</td>\n",
       "      <td>-0.004140</td>\n",
       "      <td>-0.004991</td>\n",
       "      <td>-0.003184</td>\n",
       "      <td>-0.038532</td>\n",
       "      <td>0.036489</td>\n",
       "      <td>-0.009192</td>\n",
       "      <td>0.802564</td>\n",
       "      <td>0.035604</td>\n",
       "      <td>1.000000</td>\n",
       "      <td>...</td>\n",
       "      <td>0.058060</td>\n",
       "      <td>-0.153398</td>\n",
       "      <td>0.783046</td>\n",
       "      <td>0.088016</td>\n",
       "      <td>0.844054</td>\n",
       "      <td>0.024482</td>\n",
       "      <td>0.026650</td>\n",
       "      <td>0.025746</td>\n",
       "      <td>0.027901</td>\n",
       "      <td>-0.028091</td>\n",
       "    </tr>\n",
       "    <tr>\n",
       "      <th>comment_count</th>\n",
       "      <td>0.008828</td>\n",
       "      <td>0.009047</td>\n",
       "      <td>0.008811</td>\n",
       "      <td>0.010138</td>\n",
       "      <td>-0.039976</td>\n",
       "      <td>0.045491</td>\n",
       "      <td>-0.010572</td>\n",
       "      <td>0.818871</td>\n",
       "      <td>0.035684</td>\n",
       "      <td>0.980484</td>\n",
       "      <td>...</td>\n",
       "      <td>0.061145</td>\n",
       "      <td>-0.134808</td>\n",
       "      <td>0.785731</td>\n",
       "      <td>0.101782</td>\n",
       "      <td>0.857237</td>\n",
       "      <td>0.034334</td>\n",
       "      <td>0.036326</td>\n",
       "      <td>0.035568</td>\n",
       "      <td>0.037530</td>\n",
       "      <td>-0.026701</td>\n",
       "    </tr>\n",
       "    <tr>\n",
       "      <th>share_count</th>\n",
       "      <td>0.008667</td>\n",
       "      <td>0.008901</td>\n",
       "      <td>0.008612</td>\n",
       "      <td>0.009956</td>\n",
       "      <td>-0.039193</td>\n",
       "      <td>0.047653</td>\n",
       "      <td>-0.010046</td>\n",
       "      <td>0.823655</td>\n",
       "      <td>0.037137</td>\n",
       "      <td>0.976276</td>\n",
       "      <td>...</td>\n",
       "      <td>0.062753</td>\n",
       "      <td>-0.130098</td>\n",
       "      <td>0.787666</td>\n",
       "      <td>0.105521</td>\n",
       "      <td>0.859841</td>\n",
       "      <td>0.033128</td>\n",
       "      <td>0.035184</td>\n",
       "      <td>0.034328</td>\n",
       "      <td>0.036358</td>\n",
       "      <td>-0.025724</td>\n",
       "    </tr>\n",
       "    <tr>\n",
       "      <th>tweet_count</th>\n",
       "      <td>NaN</td>\n",
       "      <td>NaN</td>\n",
       "      <td>NaN</td>\n",
       "      <td>NaN</td>\n",
       "      <td>NaN</td>\n",
       "      <td>NaN</td>\n",
       "      <td>NaN</td>\n",
       "      <td>NaN</td>\n",
       "      <td>NaN</td>\n",
       "      <td>NaN</td>\n",
       "      <td>...</td>\n",
       "      <td>NaN</td>\n",
       "      <td>NaN</td>\n",
       "      <td>NaN</td>\n",
       "      <td>NaN</td>\n",
       "      <td>NaN</td>\n",
       "      <td>NaN</td>\n",
       "      <td>NaN</td>\n",
       "      <td>NaN</td>\n",
       "      <td>NaN</td>\n",
       "      <td>NaN</td>\n",
       "    </tr>\n",
       "    <tr>\n",
       "      <th>love_count</th>\n",
       "      <td>-0.024865</td>\n",
       "      <td>-0.024601</td>\n",
       "      <td>-0.024110</td>\n",
       "      <td>-0.024454</td>\n",
       "      <td>-0.010946</td>\n",
       "      <td>0.312445</td>\n",
       "      <td>-0.002724</td>\n",
       "      <td>0.106668</td>\n",
       "      <td>0.492730</td>\n",
       "      <td>0.058060</td>\n",
       "      <td>...</td>\n",
       "      <td>1.000000</td>\n",
       "      <td>-0.038093</td>\n",
       "      <td>0.021465</td>\n",
       "      <td>-0.016750</td>\n",
       "      <td>0.310339</td>\n",
       "      <td>-0.020509</td>\n",
       "      <td>-0.020311</td>\n",
       "      <td>-0.019693</td>\n",
       "      <td>-0.019553</td>\n",
       "      <td>-0.002981</td>\n",
       "    </tr>\n",
       "    <tr>\n",
       "      <th>retweet_count</th>\n",
       "      <td>0.440490</td>\n",
       "      <td>0.439017</td>\n",
       "      <td>0.440419</td>\n",
       "      <td>0.436704</td>\n",
       "      <td>0.131199</td>\n",
       "      <td>0.262622</td>\n",
       "      <td>-0.009968</td>\n",
       "      <td>-0.028097</td>\n",
       "      <td>-0.059584</td>\n",
       "      <td>-0.153398</td>\n",
       "      <td>...</td>\n",
       "      <td>-0.038093</td>\n",
       "      <td>1.000000</td>\n",
       "      <td>0.156495</td>\n",
       "      <td>0.432195</td>\n",
       "      <td>0.185051</td>\n",
       "      <td>0.373298</td>\n",
       "      <td>0.366631</td>\n",
       "      <td>0.369549</td>\n",
       "      <td>0.363036</td>\n",
       "      <td>0.134574</td>\n",
       "    </tr>\n",
       "    <tr>\n",
       "      <th>positive_sentiment</th>\n",
       "      <td>0.067924</td>\n",
       "      <td>0.068019</td>\n",
       "      <td>0.068537</td>\n",
       "      <td>0.068307</td>\n",
       "      <td>0.002099</td>\n",
       "      <td>0.095667</td>\n",
       "      <td>-0.025570</td>\n",
       "      <td>0.767618</td>\n",
       "      <td>0.009007</td>\n",
       "      <td>0.783046</td>\n",
       "      <td>...</td>\n",
       "      <td>0.021465</td>\n",
       "      <td>0.156495</td>\n",
       "      <td>1.000000</td>\n",
       "      <td>0.040935</td>\n",
       "      <td>0.801383</td>\n",
       "      <td>0.065367</td>\n",
       "      <td>0.066934</td>\n",
       "      <td>0.065467</td>\n",
       "      <td>0.067042</td>\n",
       "      <td>0.001687</td>\n",
       "    </tr>\n",
       "    <tr>\n",
       "      <th>negative_sentiment</th>\n",
       "      <td>0.149918</td>\n",
       "      <td>0.147629</td>\n",
       "      <td>0.149662</td>\n",
       "      <td>0.147186</td>\n",
       "      <td>0.052119</td>\n",
       "      <td>0.170933</td>\n",
       "      <td>-0.000266</td>\n",
       "      <td>0.190255</td>\n",
       "      <td>-0.016065</td>\n",
       "      <td>0.088016</td>\n",
       "      <td>...</td>\n",
       "      <td>-0.016750</td>\n",
       "      <td>0.432195</td>\n",
       "      <td>0.040935</td>\n",
       "      <td>1.000000</td>\n",
       "      <td>0.348179</td>\n",
       "      <td>0.126114</td>\n",
       "      <td>0.122679</td>\n",
       "      <td>0.124087</td>\n",
       "      <td>0.120738</td>\n",
       "      <td>0.084688</td>\n",
       "    </tr>\n",
       "    <tr>\n",
       "      <th>score</th>\n",
       "      <td>0.106130</td>\n",
       "      <td>0.106056</td>\n",
       "      <td>0.106560</td>\n",
       "      <td>0.106355</td>\n",
       "      <td>0.003363</td>\n",
       "      <td>0.338948</td>\n",
       "      <td>0.103187</td>\n",
       "      <td>0.846927</td>\n",
       "      <td>0.310297</td>\n",
       "      <td>0.844054</td>\n",
       "      <td>...</td>\n",
       "      <td>0.310339</td>\n",
       "      <td>0.185051</td>\n",
       "      <td>0.801383</td>\n",
       "      <td>0.348179</td>\n",
       "      <td>1.000000</td>\n",
       "      <td>0.107055</td>\n",
       "      <td>0.107655</td>\n",
       "      <td>0.107288</td>\n",
       "      <td>0.107901</td>\n",
       "      <td>0.017575</td>\n",
       "    </tr>\n",
       "    <tr>\n",
       "      <th>open-apc</th>\n",
       "      <td>0.948410</td>\n",
       "      <td>0.944416</td>\n",
       "      <td>0.942462</td>\n",
       "      <td>0.945657</td>\n",
       "      <td>0.099475</td>\n",
       "      <td>0.102152</td>\n",
       "      <td>-0.020126</td>\n",
       "      <td>0.003571</td>\n",
       "      <td>-0.035237</td>\n",
       "      <td>0.024482</td>\n",
       "      <td>...</td>\n",
       "      <td>-0.020509</td>\n",
       "      <td>0.373298</td>\n",
       "      <td>0.065367</td>\n",
       "      <td>0.126114</td>\n",
       "      <td>0.107055</td>\n",
       "      <td>1.000000</td>\n",
       "      <td>0.996972</td>\n",
       "      <td>0.999567</td>\n",
       "      <td>0.995898</td>\n",
       "      <td>0.206498</td>\n",
       "    </tr>\n",
       "    <tr>\n",
       "      <th>high-apc</th>\n",
       "      <td>0.950923</td>\n",
       "      <td>0.947454</td>\n",
       "      <td>0.946187</td>\n",
       "      <td>0.949682</td>\n",
       "      <td>0.093711</td>\n",
       "      <td>0.101492</td>\n",
       "      <td>-0.020218</td>\n",
       "      <td>0.007402</td>\n",
       "      <td>-0.034040</td>\n",
       "      <td>0.026650</td>\n",
       "      <td>...</td>\n",
       "      <td>-0.020311</td>\n",
       "      <td>0.366631</td>\n",
       "      <td>0.066934</td>\n",
       "      <td>0.122679</td>\n",
       "      <td>0.107655</td>\n",
       "      <td>0.996972</td>\n",
       "      <td>1.000000</td>\n",
       "      <td>0.997207</td>\n",
       "      <td>0.999561</td>\n",
       "      <td>0.212412</td>\n",
       "    </tr>\n",
       "    <tr>\n",
       "      <th>low-apc</th>\n",
       "      <td>0.948794</td>\n",
       "      <td>0.945029</td>\n",
       "      <td>0.943231</td>\n",
       "      <td>0.946381</td>\n",
       "      <td>0.088371</td>\n",
       "      <td>0.101329</td>\n",
       "      <td>-0.019582</td>\n",
       "      <td>0.004820</td>\n",
       "      <td>-0.034514</td>\n",
       "      <td>0.025746</td>\n",
       "      <td>...</td>\n",
       "      <td>-0.019693</td>\n",
       "      <td>0.369549</td>\n",
       "      <td>0.065467</td>\n",
       "      <td>0.124087</td>\n",
       "      <td>0.107288</td>\n",
       "      <td>0.999567</td>\n",
       "      <td>0.997207</td>\n",
       "      <td>1.000000</td>\n",
       "      <td>0.996977</td>\n",
       "      <td>0.200503</td>\n",
       "    </tr>\n",
       "    <tr>\n",
       "      <th>close-apc</th>\n",
       "      <td>0.950878</td>\n",
       "      <td>0.947647</td>\n",
       "      <td>0.946547</td>\n",
       "      <td>0.949985</td>\n",
       "      <td>0.082164</td>\n",
       "      <td>0.100740</td>\n",
       "      <td>-0.019683</td>\n",
       "      <td>0.008661</td>\n",
       "      <td>-0.033364</td>\n",
       "      <td>0.027901</td>\n",
       "      <td>...</td>\n",
       "      <td>-0.019553</td>\n",
       "      <td>0.363036</td>\n",
       "      <td>0.067042</td>\n",
       "      <td>0.120738</td>\n",
       "      <td>0.107901</td>\n",
       "      <td>0.995898</td>\n",
       "      <td>0.999561</td>\n",
       "      <td>0.996977</td>\n",
       "      <td>1.000000</td>\n",
       "      <td>0.207544</td>\n",
       "    </tr>\n",
       "    <tr>\n",
       "      <th>volume-apc</th>\n",
       "      <td>0.271148</td>\n",
       "      <td>0.271075</td>\n",
       "      <td>0.273705</td>\n",
       "      <td>0.272570</td>\n",
       "      <td>0.098459</td>\n",
       "      <td>0.030847</td>\n",
       "      <td>-0.001765</td>\n",
       "      <td>-0.014388</td>\n",
       "      <td>-0.019221</td>\n",
       "      <td>-0.028091</td>\n",
       "      <td>...</td>\n",
       "      <td>-0.002981</td>\n",
       "      <td>0.134574</td>\n",
       "      <td>0.001687</td>\n",
       "      <td>0.084688</td>\n",
       "      <td>0.017575</td>\n",
       "      <td>0.206498</td>\n",
       "      <td>0.212412</td>\n",
       "      <td>0.200503</td>\n",
       "      <td>0.207544</td>\n",
       "      <td>1.000000</td>\n",
       "    </tr>\n",
       "  </tbody>\n",
       "</table>\n",
       "<p>23 rows × 23 columns</p>\n",
       "</div>"
      ],
      "text/plain": [
       "                     open-aapl  high-aapl  low-aapl  close-aapl  volume-aapl  \\\n",
       "open-aapl             1.000000   0.999200  0.999317    0.999342     0.091684   \n",
       "high-aapl             0.999200   1.000000  0.998866    0.999589     0.099070   \n",
       "low-aapl              0.999317   0.998866  1.000000    0.999404     0.085270   \n",
       "close-aapl            0.999342   0.999589  0.999404    1.000000     0.090666   \n",
       "volume-aapl           0.091684   0.099070  0.085270    0.090666     1.000000   \n",
       "reach_sum             0.125868   0.126559  0.125924    0.125287     0.037810   \n",
       "virality_mean        -0.015435  -0.015072 -0.015269   -0.015110    -0.003281   \n",
       "influence_score_sum  -0.011106  -0.010701 -0.009935   -0.009515    -0.017585   \n",
       "followers_mean       -0.036586  -0.035366 -0.036106   -0.035697    -0.014181   \n",
       "like_count           -0.004621  -0.004140 -0.004991   -0.003184    -0.038532   \n",
       "comment_count         0.008828   0.009047  0.008811    0.010138    -0.039976   \n",
       "share_count           0.008667   0.008901  0.008612    0.009956    -0.039193   \n",
       "tweet_count                NaN        NaN       NaN         NaN          NaN   \n",
       "love_count           -0.024865  -0.024601 -0.024110   -0.024454    -0.010946   \n",
       "retweet_count         0.440490   0.439017  0.440419    0.436704     0.131199   \n",
       "positive_sentiment    0.067924   0.068019  0.068537    0.068307     0.002099   \n",
       "negative_sentiment    0.149918   0.147629  0.149662    0.147186     0.052119   \n",
       "score                 0.106130   0.106056  0.106560    0.106355     0.003363   \n",
       "open-apc              0.948410   0.944416  0.942462    0.945657     0.099475   \n",
       "high-apc              0.950923   0.947454  0.946187    0.949682     0.093711   \n",
       "low-apc               0.948794   0.945029  0.943231    0.946381     0.088371   \n",
       "close-apc             0.950878   0.947647  0.946547    0.949985     0.082164   \n",
       "volume-apc            0.271148   0.271075  0.273705    0.272570     0.098459   \n",
       "\n",
       "                     reach_sum  virality_mean  influence_score_sum  \\\n",
       "open-aapl             0.125868      -0.015435            -0.011106   \n",
       "high-aapl             0.126559      -0.015072            -0.010701   \n",
       "low-aapl              0.125924      -0.015269            -0.009935   \n",
       "close-aapl            0.125287      -0.015110            -0.009515   \n",
       "volume-aapl           0.037810      -0.003281            -0.017585   \n",
       "reach_sum             1.000000       0.012305             0.124617   \n",
       "virality_mean         0.012305       1.000000             0.044446   \n",
       "influence_score_sum   0.124617       0.044446             1.000000   \n",
       "followers_mean        0.694855       0.000796             0.080359   \n",
       "like_count            0.036489      -0.009192             0.802564   \n",
       "comment_count         0.045491      -0.010572             0.818871   \n",
       "share_count           0.047653      -0.010046             0.823655   \n",
       "tweet_count                NaN            NaN                  NaN   \n",
       "love_count            0.312445      -0.002724             0.106668   \n",
       "retweet_count         0.262622      -0.009968            -0.028097   \n",
       "positive_sentiment    0.095667      -0.025570             0.767618   \n",
       "negative_sentiment    0.170933      -0.000266             0.190255   \n",
       "score                 0.338948       0.103187             0.846927   \n",
       "open-apc              0.102152      -0.020126             0.003571   \n",
       "high-apc              0.101492      -0.020218             0.007402   \n",
       "low-apc               0.101329      -0.019582             0.004820   \n",
       "close-apc             0.100740      -0.019683             0.008661   \n",
       "volume-apc            0.030847      -0.001765            -0.014388   \n",
       "\n",
       "                     followers_mean  like_count     ...      love_count  \\\n",
       "open-aapl                 -0.036586   -0.004621     ...       -0.024865   \n",
       "high-aapl                 -0.035366   -0.004140     ...       -0.024601   \n",
       "low-aapl                  -0.036106   -0.004991     ...       -0.024110   \n",
       "close-aapl                -0.035697   -0.003184     ...       -0.024454   \n",
       "volume-aapl               -0.014181   -0.038532     ...       -0.010946   \n",
       "reach_sum                  0.694855    0.036489     ...        0.312445   \n",
       "virality_mean              0.000796   -0.009192     ...       -0.002724   \n",
       "influence_score_sum        0.080359    0.802564     ...        0.106668   \n",
       "followers_mean             1.000000    0.035604     ...        0.492730   \n",
       "like_count                 0.035604    1.000000     ...        0.058060   \n",
       "comment_count              0.035684    0.980484     ...        0.061145   \n",
       "share_count                0.037137    0.976276     ...        0.062753   \n",
       "tweet_count                     NaN         NaN     ...             NaN   \n",
       "love_count                 0.492730    0.058060     ...        1.000000   \n",
       "retweet_count             -0.059584   -0.153398     ...       -0.038093   \n",
       "positive_sentiment         0.009007    0.783046     ...        0.021465   \n",
       "negative_sentiment        -0.016065    0.088016     ...       -0.016750   \n",
       "score                      0.310297    0.844054     ...        0.310339   \n",
       "open-apc                  -0.035237    0.024482     ...       -0.020509   \n",
       "high-apc                  -0.034040    0.026650     ...       -0.020311   \n",
       "low-apc                   -0.034514    0.025746     ...       -0.019693   \n",
       "close-apc                 -0.033364    0.027901     ...       -0.019553   \n",
       "volume-apc                -0.019221   -0.028091     ...       -0.002981   \n",
       "\n",
       "                     retweet_count  positive_sentiment  negative_sentiment  \\\n",
       "open-aapl                 0.440490            0.067924            0.149918   \n",
       "high-aapl                 0.439017            0.068019            0.147629   \n",
       "low-aapl                  0.440419            0.068537            0.149662   \n",
       "close-aapl                0.436704            0.068307            0.147186   \n",
       "volume-aapl               0.131199            0.002099            0.052119   \n",
       "reach_sum                 0.262622            0.095667            0.170933   \n",
       "virality_mean            -0.009968           -0.025570           -0.000266   \n",
       "influence_score_sum      -0.028097            0.767618            0.190255   \n",
       "followers_mean           -0.059584            0.009007           -0.016065   \n",
       "like_count               -0.153398            0.783046            0.088016   \n",
       "comment_count            -0.134808            0.785731            0.101782   \n",
       "share_count              -0.130098            0.787666            0.105521   \n",
       "tweet_count                    NaN                 NaN                 NaN   \n",
       "love_count               -0.038093            0.021465           -0.016750   \n",
       "retweet_count             1.000000            0.156495            0.432195   \n",
       "positive_sentiment        0.156495            1.000000            0.040935   \n",
       "negative_sentiment        0.432195            0.040935            1.000000   \n",
       "score                     0.185051            0.801383            0.348179   \n",
       "open-apc                  0.373298            0.065367            0.126114   \n",
       "high-apc                  0.366631            0.066934            0.122679   \n",
       "low-apc                   0.369549            0.065467            0.124087   \n",
       "close-apc                 0.363036            0.067042            0.120738   \n",
       "volume-apc                0.134574            0.001687            0.084688   \n",
       "\n",
       "                        score  open-apc  high-apc   low-apc  close-apc  \\\n",
       "open-aapl            0.106130  0.948410  0.950923  0.948794   0.950878   \n",
       "high-aapl            0.106056  0.944416  0.947454  0.945029   0.947647   \n",
       "low-aapl             0.106560  0.942462  0.946187  0.943231   0.946547   \n",
       "close-aapl           0.106355  0.945657  0.949682  0.946381   0.949985   \n",
       "volume-aapl          0.003363  0.099475  0.093711  0.088371   0.082164   \n",
       "reach_sum            0.338948  0.102152  0.101492  0.101329   0.100740   \n",
       "virality_mean        0.103187 -0.020126 -0.020218 -0.019582  -0.019683   \n",
       "influence_score_sum  0.846927  0.003571  0.007402  0.004820   0.008661   \n",
       "followers_mean       0.310297 -0.035237 -0.034040 -0.034514  -0.033364   \n",
       "like_count           0.844054  0.024482  0.026650  0.025746   0.027901   \n",
       "comment_count        0.857237  0.034334  0.036326  0.035568   0.037530   \n",
       "share_count          0.859841  0.033128  0.035184  0.034328   0.036358   \n",
       "tweet_count               NaN       NaN       NaN       NaN        NaN   \n",
       "love_count           0.310339 -0.020509 -0.020311 -0.019693  -0.019553   \n",
       "retweet_count        0.185051  0.373298  0.366631  0.369549   0.363036   \n",
       "positive_sentiment   0.801383  0.065367  0.066934  0.065467   0.067042   \n",
       "negative_sentiment   0.348179  0.126114  0.122679  0.124087   0.120738   \n",
       "score                1.000000  0.107055  0.107655  0.107288   0.107901   \n",
       "open-apc             0.107055  1.000000  0.996972  0.999567   0.995898   \n",
       "high-apc             0.107655  0.996972  1.000000  0.997207   0.999561   \n",
       "low-apc              0.107288  0.999567  0.997207  1.000000   0.996977   \n",
       "close-apc            0.107901  0.995898  0.999561  0.996977   1.000000   \n",
       "volume-apc           0.017575  0.206498  0.212412  0.200503   0.207544   \n",
       "\n",
       "                     volume-apc  \n",
       "open-aapl              0.271148  \n",
       "high-aapl              0.271075  \n",
       "low-aapl               0.273705  \n",
       "close-aapl             0.272570  \n",
       "volume-aapl            0.098459  \n",
       "reach_sum              0.030847  \n",
       "virality_mean         -0.001765  \n",
       "influence_score_sum   -0.014388  \n",
       "followers_mean        -0.019221  \n",
       "like_count            -0.028091  \n",
       "comment_count         -0.026701  \n",
       "share_count           -0.025724  \n",
       "tweet_count                 NaN  \n",
       "love_count            -0.002981  \n",
       "retweet_count          0.134574  \n",
       "positive_sentiment     0.001687  \n",
       "negative_sentiment     0.084688  \n",
       "score                  0.017575  \n",
       "open-apc               0.206498  \n",
       "high-apc               0.212412  \n",
       "low-apc                0.200503  \n",
       "close-apc              0.207544  \n",
       "volume-apc             1.000000  \n",
       "\n",
       "[23 rows x 23 columns]"
      ]
     },
     "execution_count": 626,
     "metadata": {},
     "output_type": "execute_result"
    }
   ],
   "source": [
    "df_merge.corr(method='pearson', min_periods=2)"
   ]
  },
  {
   "cell_type": "code",
   "execution_count": 662,
   "metadata": {
    "scrolled": true
   },
   "outputs": [
    {
     "data": {
      "text/plain": [
       "open-aapl              0.106163\n",
       "high-aapl              0.106163\n",
       "low-aapl               0.106776\n",
       "close-aapl             0.106528\n",
       "volume-aapl            0.002565\n",
       "reach_sum              0.031968\n",
       "virality_mean          0.030877\n",
       "influence_score_sum    0.002618\n",
       "followers_mean         0.008211\n",
       "like_count             0.011982\n",
       "comment_count          0.009568\n",
       "share_count            0.009142\n",
       "tweet_count                 NaN\n",
       "love_count             0.005424\n",
       "retweet_count          0.064842\n",
       "positive_sentiment    -0.003513\n",
       "negative_sentiment     0.014034\n",
       "score                  0.026295\n",
       "open-apc               0.107105\n",
       "high-apc               0.107686\n",
       "low-apc                0.107341\n",
       "close-apc              0.107936\n",
       "volume-apc             0.018496\n",
       "shifted_close          0.004581\n",
       "shifted_volume        -0.082443\n",
       "dtype: float64"
      ]
     },
     "execution_count": 662,
     "metadata": {},
     "output_type": "execute_result"
    }
   ],
   "source": [
    "df_merge.corrwith(df_merge.score.shift(1))"
   ]
  },
  {
   "cell_type": "code",
   "execution_count": 628,
   "metadata": {},
   "outputs": [],
   "source": [
    "corre=pd.DataFrame()"
   ]
  },
  {
   "cell_type": "code",
   "execution_count": 629,
   "metadata": {},
   "outputs": [],
   "source": [
    "arrr=[]\n",
    "for i in range(5000):\n",
    "    arrr.append(i)\n"
   ]
  },
  {
   "cell_type": "code",
   "execution_count": 630,
   "metadata": {},
   "outputs": [],
   "source": [
    "corre[\"num\"]=arrr"
   ]
  },
  {
   "cell_type": "code",
   "execution_count": 631,
   "metadata": {},
   "outputs": [
    {
     "name": "stdout",
     "output_type": "stream",
     "text": [
      "Wall time: 0 ns\n"
     ]
    }
   ],
   "source": [
    "%time\n",
    "arrr1=[]\n",
    "arrr2=[]\n",
    "for index,item in corre.iterrows():\n",
    "    df_merge[\"shifted_close\"]=df_merge[\"close-aapl\"].shift(-index).fillna(0)\n",
    "    df_merge[\"shifted_volume\"]=df_merge[\"volume-aapl\"].shift(-index).fillna(0)\n",
    "    arrr1.append(df_merge.corrwith(df_merge[\"score\"].shift(index))[\"shifted_close\"])\n",
    "    arrr2.append(df_merge.corrwith(df_merge[\"score\"].shift(index))[\"shifted_volume\"])\n",
    "corre[\"result_close\"]=arrr1\n",
    "corre[\"result_volume\"]=arrr2"
   ]
  },
  {
   "cell_type": "code",
   "execution_count": 646,
   "metadata": {
    "scrolled": false
   },
   "outputs": [
    {
     "data": {
      "text/plain": [
       "<matplotlib.axes._subplots.AxesSubplot at 0x27cc3a3b668>"
      ]
     },
     "execution_count": 646,
     "metadata": {},
     "output_type": "execute_result"
    },
    {
     "data": {
      "image/png": "[encoded data removed]",
      "text/plain": [
       "<Figure size 432x288 with 1 Axes>"
      ]
     },
     "metadata": {},
     "output_type": "display_data"
    }
   ],
   "source": [
    "corre[\"result_close\"].plot()"
   ]
  },
  {
   "cell_type": "code",
   "execution_count": 633,
   "metadata": {},
   "outputs": [
    {
     "data": {
      "text/plain": [
       "4593"
      ]
     },
     "execution_count": 633,
     "metadata": {},
     "output_type": "execute_result"
    }
   ],
   "source": [
    "corre[\"result_volume\"].idxmax()"
   ]
  },
  {
   "cell_type": "markdown",
   "metadata": {},
   "source": [
    "# Machine learning part"
   ]
  },
  {
   "cell_type": "markdown",
   "metadata": {},
   "source": [
    "Linear Regression model"
   ]
  },
  {
   "cell_type": "code",
   "execution_count": 634,
   "metadata": {},
   "outputs": [],
   "source": [
    "from sklearn import linear_model\n",
    "import statsmodels.api as sm"
   ]
  },
  {
   "cell_type": "code",
   "execution_count": 635,
   "metadata": {},
   "outputs": [],
   "source": [
    "MLdf = df_merge.fillna(0)"
   ]
  },
  {
   "cell_type": "markdown",
   "metadata": {},
   "source": [
    "Input Values"
   ]
  },
  {
   "cell_type": "code",
   "execution_count": 636,
   "metadata": {},
   "outputs": [],
   "source": [
    "MLDF_train = MLdf[:10000][[ 'reach_sum', 'virality_mean', 'influence_score_sum',\n",
    "       'followers_mean', 'like_count', 'comment_count', 'share_count',\n",
    "       'tweet_count', 'love_count', 'retweet_count', 'positive_sentiment',\n",
    "       'negative_sentiment', 'score', 'open-apc', 'high-apc', 'low-apc',\n",
    "       'close-apc', 'volume-apc','close-aapl']]"
   ]
  },
  {
   "cell_type": "code",
   "execution_count": 637,
   "metadata": {},
   "outputs": [],
   "source": [
    "MLDF_test = MLdf[10001:][[ 'reach_sum', 'virality_mean', 'influence_score_sum',\n",
    "       'followers_mean', 'like_count', 'comment_count', 'share_count',\n",
    "       'tweet_count', 'love_count', 'retweet_count', 'positive_sentiment',\n",
    "       'negative_sentiment', 'score', 'open-apc', 'high-apc', 'low-apc',\n",
    "       'close-apc', 'volume-apc','close-aapl']]"
   ]
  },
  {
   "cell_type": "code",
   "execution_count": 638,
   "metadata": {},
   "outputs": [],
   "source": [
    "X = MLDF_train[[ 'reach_sum', 'virality_mean', 'influence_score_sum',\n",
    "       'followers_mean', 'like_count', 'comment_count', 'share_count',\n",
    "       'tweet_count', 'love_count', 'retweet_count', 'positive_sentiment',\n",
    "       'negative_sentiment', 'score', 'open-apc', 'high-apc', 'low-apc',\n",
    "       'close-apc', 'volume-apc']]"
   ]
  },
  {
   "cell_type": "code",
   "execution_count": 639,
   "metadata": {},
   "outputs": [],
   "source": [
    "Y = MLDF_train[['close-aapl']]"
   ]
  },
  {
   "cell_type": "code",
   "execution_count": 640,
   "metadata": {},
   "outputs": [
    {
     "data": {
      "text/plain": [
       "LinearRegression(copy_X=True, fit_intercept=True, n_jobs=1, normalize=False)"
      ]
     },
     "execution_count": 640,
     "metadata": {},
     "output_type": "execute_result"
    }
   ],
   "source": [
    "regr = linear_model.LinearRegression()\n",
    "regr.fit(X, Y)"
   ]
  },
  {
   "cell_type": "code",
   "execution_count": 641,
   "metadata": {},
   "outputs": [],
   "source": [
    "res1 = regr.predict(MLDF_test[[ 'reach_sum', 'virality_mean', 'influence_score_sum',\n",
    "       'followers_mean', 'like_count', 'comment_count', 'share_count',\n",
    "       'tweet_count', 'love_count', 'retweet_count', 'positive_sentiment',\n",
    "       'negative_sentiment', 'score', 'open-apc', 'high-apc', 'low-apc',\n",
    "       'close-apc', 'volume-apc']])"
   ]
  },
  {
   "cell_type": "code",
   "execution_count": 642,
   "metadata": {},
   "outputs": [
    {
     "data": {
      "text/html": [
       "<div>\n",
       "<style scoped>\n",
       "    .dataframe tbody tr th:only-of-type {\n",
       "        vertical-align: middle;\n",
       "    }\n",
       "\n",
       "    .dataframe tbody tr th {\n",
       "        vertical-align: top;\n",
       "    }\n",
       "\n",
       "    .dataframe thead th {\n",
       "        text-align: right;\n",
       "    }\n",
       "</style>\n",
       "<table border=\"1\" class=\"dataframe\">\n",
       "  <thead>\n",
       "    <tr style=\"text-align: right;\">\n",
       "      <th></th>\n",
       "      <th>close-aapl</th>\n",
       "    </tr>\n",
       "    <tr>\n",
       "      <th>minute</th>\n",
       "      <th></th>\n",
       "    </tr>\n",
       "  </thead>\n",
       "  <tbody>\n",
       "    <tr>\n",
       "      <th>2018-08-26 22:41:00</th>\n",
       "      <td>-0.975764</td>\n",
       "    </tr>\n",
       "    <tr>\n",
       "      <th>2018-08-26 22:42:00</th>\n",
       "      <td>-0.975687</td>\n",
       "    </tr>\n",
       "    <tr>\n",
       "      <th>2018-08-26 22:43:00</th>\n",
       "      <td>-0.975610</td>\n",
       "    </tr>\n",
       "    <tr>\n",
       "      <th>2018-08-26 22:44:00</th>\n",
       "      <td>-0.975533</td>\n",
       "    </tr>\n",
       "    <tr>\n",
       "      <th>2018-08-26 22:45:00</th>\n",
       "      <td>-0.975456</td>\n",
       "    </tr>\n",
       "  </tbody>\n",
       "</table>\n",
       "</div>"
      ],
      "text/plain": [
       "                     close-aapl\n",
       "minute                         \n",
       "2018-08-26 22:41:00   -0.975764\n",
       "2018-08-26 22:42:00   -0.975687\n",
       "2018-08-26 22:43:00   -0.975610\n",
       "2018-08-26 22:44:00   -0.975533\n",
       "2018-08-26 22:45:00   -0.975456"
      ]
     },
     "execution_count": 642,
     "metadata": {},
     "output_type": "execute_result"
    }
   ],
   "source": [
    "MLDF_test[['close-aapl']].head()"
   ]
  },
  {
   "cell_type": "code",
   "execution_count": 643,
   "metadata": {},
   "outputs": [],
   "source": [
    "MLDF_test['res'] = res1"
   ]
  },
  {
   "cell_type": "code",
   "execution_count": 644,
   "metadata": {},
   "outputs": [
    {
     "data": {
      "text/plain": [
       "<matplotlib.axes._subplots.AxesSubplot at 0x27cc7a8f828>"
      ]
     },
     "execution_count": 644,
     "metadata": {},
     "output_type": "execute_result"
    },
    {
     "data": {
      "image/png": "[encoded data removed]",
      "text/plain": [
       "<Figure size 432x288 with 1 Axes>"
      ]
     },
     "metadata": {},
     "output_type": "display_data"
    }
   ],
   "source": [
    "MLDF_test[['res','close-aapl']].plot()"
   ]
  },
  {
   "cell_type": "markdown",
   "metadata": {},
   "source": [
    "# Other machine learning algorithms in ML folder"
   ]
  }
 ],
 "metadata": {
  "kernelspec": {
   "display_name": "Python 3",
   "language": "python",
   "name": "python3"
  },
  "language_info": {
   "codemirror_mode": {
    "name": "ipython",
    "version": 3
   },
   "file_extension": ".py",
   "mimetype": "text/x-python",
   "name": "python",
   "nbconvert_exporter": "python",
   "pygments_lexer": "ipython3",
   "version": "3.6.5"
  }
 },
 "nbformat": 4,
 "nbformat_minor": 2
}
