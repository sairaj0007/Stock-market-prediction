{
 "cells": [
  {
   "cell_type": "code",
   "execution_count": 41,
   "metadata": {},
   "outputs": [],
   "source": [
    "import pandas as pd  \n",
    "import numpy as np\n",
    "import matplotlib.pyplot as plt\n",
    "%matplotlib inline"
   ]
  },
  {
   "cell_type": "code",
   "execution_count": 42,
   "metadata": {},
   "outputs": [],
   "source": [
    "path = 'AAPL_21_08_2018.csv'"
   ]
  },
  {
   "cell_type": "code",
   "execution_count": 43,
   "metadata": {},
   "outputs": [],
   "source": [
    "df = pd.read_csv(path)"
   ]
  },
  {
   "cell_type": "code",
   "execution_count": 44,
   "metadata": {},
   "outputs": [],
   "source": [
    "df[[\"Name\"]] = df[[\"Name\"]].apply(pd.to_datetime)"
   ]
  },
  {
   "cell_type": "code",
   "execution_count": 45,
   "metadata": {},
   "outputs": [],
   "source": [
    "df.set_index('Name',inplace=True)"
   ]
  },
  {
   "cell_type": "code",
   "execution_count": 48,
   "metadata": {
    "scrolled": true
   },
   "outputs": [
    {
     "data": {
      "text/html": [
       "<div>\n",
       "<style scoped>\n",
       "    .dataframe tbody tr th:only-of-type {\n",
       "        vertical-align: middle;\n",
       "    }\n",
       "\n",
       "    .dataframe tbody tr th {\n",
       "        vertical-align: top;\n",
       "    }\n",
       "\n",
       "    .dataframe thead th {\n",
       "        text-align: right;\n",
       "    }\n",
       "</style>\n",
       "<table border=\"1\" class=\"dataframe\">\n",
       "  <thead>\n",
       "    <tr style=\"text-align: right;\">\n",
       "      <th></th>\n",
       "      <th>open</th>\n",
       "      <th>high</th>\n",
       "      <th>low</th>\n",
       "      <th>close</th>\n",
       "      <th>volume</th>\n",
       "    </tr>\n",
       "    <tr>\n",
       "      <th>Name</th>\n",
       "      <th></th>\n",
       "      <th></th>\n",
       "      <th></th>\n",
       "      <th></th>\n",
       "      <th></th>\n",
       "    </tr>\n",
       "  </thead>\n",
       "  <tbody>\n",
       "    <tr>\n",
       "      <th>2018-08-21 15:59:00</th>\n",
       "      <td>215.260</td>\n",
       "      <td>215.4000</td>\n",
       "      <td>215.0300</td>\n",
       "      <td>215.03</td>\n",
       "      <td>384180</td>\n",
       "    </tr>\n",
       "    <tr>\n",
       "      <th>2018-08-21 15:58:00</th>\n",
       "      <td>215.180</td>\n",
       "      <td>215.2900</td>\n",
       "      <td>215.1800</td>\n",
       "      <td>215.25</td>\n",
       "      <td>113405</td>\n",
       "    </tr>\n",
       "    <tr>\n",
       "      <th>2018-08-21 15:57:00</th>\n",
       "      <td>215.085</td>\n",
       "      <td>215.1900</td>\n",
       "      <td>215.0700</td>\n",
       "      <td>215.19</td>\n",
       "      <td>90605</td>\n",
       "    </tr>\n",
       "    <tr>\n",
       "      <th>2018-08-21 15:56:00</th>\n",
       "      <td>215.090</td>\n",
       "      <td>215.1228</td>\n",
       "      <td>215.0675</td>\n",
       "      <td>215.10</td>\n",
       "      <td>76394</td>\n",
       "    </tr>\n",
       "    <tr>\n",
       "      <th>2018-08-21 15:55:00</th>\n",
       "      <td>214.970</td>\n",
       "      <td>215.1100</td>\n",
       "      <td>214.9700</td>\n",
       "      <td>215.08</td>\n",
       "      <td>130059</td>\n",
       "    </tr>\n",
       "  </tbody>\n",
       "</table>\n",
       "</div>"
      ],
      "text/plain": [
       "                        open      high       low   close  volume\n",
       "Name                                                            \n",
       "2018-08-21 15:59:00  215.260  215.4000  215.0300  215.03  384180\n",
       "2018-08-21 15:58:00  215.180  215.2900  215.1800  215.25  113405\n",
       "2018-08-21 15:57:00  215.085  215.1900  215.0700  215.19   90605\n",
       "2018-08-21 15:56:00  215.090  215.1228  215.0675  215.10   76394\n",
       "2018-08-21 15:55:00  214.970  215.1100  214.9700  215.08  130059"
      ]
     },
     "execution_count": 48,
     "metadata": {},
     "output_type": "execute_result"
    }
   ],
   "source": [
    "df.head()"
   ]
  },
  {
   "cell_type": "code",
   "execution_count": 47,
   "metadata": {},
   "outputs": [],
   "source": [
    "df=df.rename(columns={\n",
    "    'Value.1. open':'open', 'Value.2. high':'high', 'Value.3. low':'low', 'Value.4. close':'close',\n",
    "       'Value.5. volume':'volume'\n",
    "})"
   ]
  },
  {
   "cell_type": "code",
   "execution_count": 49,
   "metadata": {},
   "outputs": [
    {
     "data": {
      "text/plain": [
       "<matplotlib.axes._subplots.AxesSubplot at 0x20ca628c4e0>"
      ]
     },
     "execution_count": 49,
     "metadata": {},
     "output_type": "execute_result"
    },
    {
     "data": {
      "image/png": "[encoded data removed]",
      "text/plain": [
       "<Figure size 432x288 with 1 Axes>"
      ]
     },
     "metadata": {},
     "output_type": "display_data"
    }
   ],
   "source": [
    "df.close.plot()"
   ]
  }
 ],
 "metadata": {
  "kernelspec": {
   "display_name": "Python 3",
   "language": "python",
   "name": "python3"
  },
  "language_info": {
   "codemirror_mode": {
    "name": "ipython",
    "version": 3
   },
   "file_extension": ".py",
   "mimetype": "text/x-python",
   "name": "python",
   "nbconvert_exporter": "python",
   "pygments_lexer": "ipython3",
   "version": "3.6.5"
  }
 },
 "nbformat": 4,
 "nbformat_minor": 2
}
